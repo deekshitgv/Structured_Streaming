{
  "nbformat": 4,
  "nbformat_minor": 0,
  "metadata": {
    "application/vnd.databricks.v1+notebook": {
      "notebookName": "SS 02 - Streaming Concepts Lab",
      "dashboards": [],
      "notebookMetadata": {
        "pythonIndentUnit": 2
      },
      "language": "python",
      "widgets": {},
      "notebookOrigID": 3357031427824844
    },
    "colab": {
      "name": "Copy of SS 02 - Streaming_Data_Lab.ipynb",
      "provenance": [],
      "collapsed_sections": []
    }
  },
  "cells": [
    {
      "cell_type": "markdown",
      "metadata": {
        "application/vnd.databricks.v1+cell": {
          "title": "",
          "showTitle": false,
          "inputWidgets": {},
          "nuid": "20e56c7f-e063-4ebb-b6fc-0da2b5b276ee"
        },
        "id": "Qhet3mzfxoDa"
      },
      "source": [
        "<img src=\"https://files.training.databricks.com/images/Apache-Spark-Logo_TM_200px.png\" style=\"float: left: margin: 20px\"/>\n",
        "\n",
        "# Structured Streaming\n",
        "\n",
        "## Prerequisites\n",
        "* Web browser: **Chrome**\n",
        "* A cluster configured with **8 cores** and **DBR 6.2**\n",
        "* Run the code on the databricks Community edition workspace.\n"
      ]
    },
    {
      "cell_type": "markdown",
      "metadata": {
        "application/vnd.databricks.v1+cell": {
          "title": "",
          "showTitle": false,
          "inputWidgets": {},
          "nuid": "aadc2a52-aa70-48f8-adb8-b869a4c80f0b"
        },
        "id": "pIfaGmBixoDb"
      },
      "source": [
        "## ![Spark Logo Tiny](https://files.training.databricks.com/images/105/logo_spark_tiny.png) Classroom-Setup\n",
        "\n",
        "For each lesson to execute correctly, please make sure to run the **`Classroom-Setup`** cell at the<br/>\n",
        "start of the cell (see the next cell) and the **`Classroom-Cleanup`** cell at the end."
      ]
    },
    {
      "cell_type": "code",
      "metadata": {
        "application/vnd.databricks.v1+cell": {
          "title": "",
          "showTitle": false,
          "inputWidgets": {},
          "nuid": "b0e978ad-213d-4f8a-bb4c-8b6e0a4d8e91"
        },
        "id": "wPJfYL8fxoDc",
        "outputId": "552146c1-576d-42ae-fbe9-30be9863746f"
      },
      "source": [
        "%run \"../Includes/Classroom-Setup\""
      ],
      "execution_count": null,
      "outputs": [
        {
          "output_type": "display_data",
          "data": {
            "text/html": [
              "<style scoped>\n",
              "  .ansiout {\n",
              "    display: block;\n",
              "    unicode-bidi: embed;\n",
              "    white-space: pre-wrap;\n",
              "    word-wrap: break-word;\n",
              "    word-break: break-all;\n",
              "    font-family: \"Source Code Pro\", \"Menlo\", monospace;;\n",
              "    font-size: 13px;\n",
              "    color: #555;\n",
              "    margin-left: 4px;\n",
              "    line-height: 19px;\n",
              "  }\n",
              "</style>\n",
              "<div class=\"ansiout\"></div>"
            ]
          },
          "metadata": {
            "tags": [],
            "application/vnd.databricks.v1+output": {
              "datasetInfos": [],
              "data": "<div class=\"ansiout\"></div>",
              "removedWidgets": [],
              "addedWidgets": {},
              "type": "html",
              "arguments": {}
            }
          }
        },
        {
          "output_type": "display_data",
          "data": {
            "text/html": [
              "Preparing the Python environment..."
            ]
          },
          "metadata": {
            "tags": [],
            "application/vnd.databricks.v1+output": {
              "datasetInfos": [],
              "data": "Preparing the Python environment...",
              "textData": null,
              "removedWidgets": [],
              "addedWidgets": {},
              "type": "htmlSandbox",
              "arguments": {}
            }
          }
        },
        {
          "output_type": "display_data",
          "data": {
            "text/html": [
              "Defining courseware-specific utility methods..."
            ]
          },
          "metadata": {
            "tags": [],
            "application/vnd.databricks.v1+output": {
              "datasetInfos": [],
              "data": "Defining courseware-specific utility methods...",
              "textData": null,
              "removedWidgets": [],
              "addedWidgets": {},
              "type": "htmlSandbox",
              "arguments": {}
            }
          }
        },
        {
          "output_type": "display_data",
          "data": {
            "text/html": [
              "<style scoped>\n",
              "  .ansiout {\n",
              "    display: block;\n",
              "    unicode-bidi: embed;\n",
              "    white-space: pre-wrap;\n",
              "    word-wrap: break-word;\n",
              "    word-break: break-all;\n",
              "    font-family: \"Source Code Pro\", \"Menlo\", monospace;;\n",
              "    font-size: 13px;\n",
              "    color: #555;\n",
              "    margin-left: 4px;\n",
              "    line-height: 19px;\n",
              "  }\n",
              "</style>\n",
              "<div class=\"ansiout\"></div>"
            ]
          },
          "metadata": {
            "tags": [],
            "application/vnd.databricks.v1+output": {
              "datasetInfos": [],
              "data": "<div class=\"ansiout\"></div>",
              "removedWidgets": [],
              "addedWidgets": {},
              "type": "html",
              "arguments": {}
            }
          }
        },
        {
          "output_type": "display_data",
          "data": {
            "text/html": [
              "Defining user-facing utility methods..."
            ]
          },
          "metadata": {
            "tags": [],
            "application/vnd.databricks.v1+output": {
              "datasetInfos": [],
              "data": "Defining user-facing utility methods...",
              "textData": null,
              "removedWidgets": [],
              "addedWidgets": {},
              "type": "htmlSandbox",
              "arguments": {}
            }
          }
        },
        {
          "output_type": "display_data",
          "data": {
            "text/html": [
              "Defining custom variables for this lesson..."
            ]
          },
          "metadata": {
            "tags": [],
            "application/vnd.databricks.v1+output": {
              "datasetInfos": [],
              "data": "Defining custom variables for this lesson...",
              "textData": null,
              "removedWidgets": [],
              "addedWidgets": {},
              "type": "htmlSandbox",
              "arguments": {}
            }
          }
        },
        {
          "output_type": "display_data",
          "data": {
            "text/html": [
              "Initializing Databricks Academy's testing framework..."
            ]
          },
          "metadata": {
            "tags": [],
            "application/vnd.databricks.v1+output": {
              "datasetInfos": [],
              "data": "Initializing Databricks Academy's testing framework...",
              "textData": null,
              "removedWidgets": [],
              "addedWidgets": {},
              "type": "htmlSandbox",
              "arguments": {}
            }
          }
        },
        {
          "output_type": "display_data",
          "data": {
            "text/html": [
              "Initializing Databricks Academy's services for generating dynamic data..."
            ]
          },
          "metadata": {
            "tags": [],
            "application/vnd.databricks.v1+output": {
              "datasetInfos": [],
              "data": "Initializing Databricks Academy's services for generating dynamic data...",
              "textData": null,
              "removedWidgets": [],
              "addedWidgets": {},
              "type": "htmlSandbox",
              "arguments": {}
            }
          }
        },
        {
          "output_type": "display_data",
          "data": {
            "text/html": [
              "Mounting course-specific datasets to <b>/mnt/training</b>...</br>Datasets are already mounted to <b>/mnt/training</b> from <b>s3a://databricks-corp-training/common</b>"
            ]
          },
          "metadata": {
            "tags": [],
            "application/vnd.databricks.v1+output": {
              "datasetInfos": [],
              "data": "Mounting course-specific datasets to <b>/mnt/training</b>...</br>Datasets are already mounted to <b>/mnt/training</b> from <b>s3a://databricks-corp-training/common</b>",
              "textData": null,
              "removedWidgets": [],
              "addedWidgets": {},
              "type": "htmlSandbox",
              "arguments": {}
            }
          }
        },
        {
          "output_type": "display_data",
          "data": {
            "text/html": [
              "<style scoped>\n",
              "  .ansiout {\n",
              "    display: block;\n",
              "    unicode-bidi: embed;\n",
              "    white-space: pre-wrap;\n",
              "    word-wrap: break-word;\n",
              "    word-break: break-all;\n",
              "    font-family: \"Source Code Pro\", \"Menlo\", monospace;;\n",
              "    font-size: 13px;\n",
              "    color: #555;\n",
              "    margin-left: 4px;\n",
              "    line-height: 19px;\n",
              "  }\n",
              "</style>\n",
              "<div class=\"ansiout\"></div>"
            ]
          },
          "metadata": {
            "tags": [],
            "application/vnd.databricks.v1+output": {
              "datasetInfos": [],
              "data": "<div class=\"ansiout\"></div>",
              "removedWidgets": [],
              "addedWidgets": {},
              "type": "html",
              "arguments": {}
            }
          }
        },
        {
          "output_type": "display_data",
          "data": {
            "text/html": [
              "<style scoped>\n",
              "  .ansiout {\n",
              "    display: block;\n",
              "    unicode-bidi: embed;\n",
              "    white-space: pre-wrap;\n",
              "    word-wrap: break-word;\n",
              "    word-break: break-all;\n",
              "    font-family: \"Source Code Pro\", \"Menlo\", monospace;;\n",
              "    font-size: 13px;\n",
              "    color: #555;\n",
              "    margin-left: 4px;\n",
              "    line-height: 19px;\n",
              "  }\n",
              "</style>\n",
              "<div class=\"ansiout\"></div>"
            ]
          },
          "metadata": {
            "tags": [],
            "application/vnd.databricks.v1+output": {
              "datasetInfos": [],
              "data": "<div class=\"ansiout\"></div>",
              "removedWidgets": [],
              "addedWidgets": {},
              "type": "html",
              "arguments": {}
            }
          }
        },
        {
          "output_type": "display_data",
          "data": {
            "text/html": [
              "Cleaning up the learning environment...no actions taken."
            ]
          },
          "metadata": {
            "tags": [],
            "application/vnd.databricks.v1+output": {
              "datasetInfos": [],
              "data": "Cleaning up the learning environment...no actions taken.",
              "textData": null,
              "removedWidgets": [],
              "addedWidgets": {},
              "type": "htmlSandbox",
              "arguments": {}
            }
          }
        },
        {
          "output_type": "display_data",
          "data": {
            "text/html": [
              "\n",
              "      <div style=\"color:red; font-weight:bold\">WARNING: This notebook was tested on DBR 6.2, but we found DBR 8.0.</div>\n",
              "      <div style=\"font-weight:bold\">Using an untested DBR may yield unexpected results and/or various errors</div>\n",
              "      <div style=\"font-weight:bold\">Please update your cluster configuration and/or <a href=\"https://academy.databricks.com/\" target=\"_blank\">download a newer version of this course</a> before proceeding.</div>\n",
              "    "
            ]
          },
          "metadata": {
            "tags": [],
            "application/vnd.databricks.v1+output": {
              "datasetInfos": [],
              "data": "\n      <div style=\"color:red; font-weight:bold\">WARNING: This notebook was tested on DBR 6.2, but we found DBR 8.0.</div>\n      <div style=\"font-weight:bold\">Using an untested DBR may yield unexpected results and/or various errors</div>\n      <div style=\"font-weight:bold\">Please update your cluster configuration and/or <a href=\"https://academy.databricks.com/\" target=\"_blank\">download a newer version of this course</a> before proceeding.</div>\n    ",
              "textData": null,
              "removedWidgets": [],
              "addedWidgets": {},
              "type": "htmlSandbox",
              "arguments": {}
            }
          }
        },
        {
          "output_type": "display_data",
          "data": {
            "text/html": [
              "All done!"
            ]
          },
          "metadata": {
            "tags": [],
            "application/vnd.databricks.v1+output": {
              "datasetInfos": [],
              "data": "All done!",
              "textData": null,
              "removedWidgets": [],
              "addedWidgets": {},
              "type": "htmlSandbox",
              "arguments": {}
            }
          }
        }
      ]
    },
    {
      "cell_type": "markdown",
      "metadata": {
        "application/vnd.databricks.v1+cell": {
          "title": "",
          "showTitle": false,
          "inputWidgets": {},
          "nuid": "4d9a032f-a009-4f97-b857-c114e346d598"
        },
        "id": "uidi0YdQxoDd"
      },
      "source": [
        "Define the name of the stream we are to use later in this lesson:"
      ]
    },
    {
      "cell_type": "markdown",
      "metadata": {
        "application/vnd.databricks.v1+cell": {
          "title": "",
          "showTitle": false,
          "inputWidgets": {},
          "nuid": "ad3b2878-cc09-47b9-820e-c6d526446184"
        },
        "id": "sBZ0TYuzxoDf"
      },
      "source": [
        "Start by reading the stream. \n",
        "\n",
        "For this step you will need to:\n",
        "1. Starting with `spark`, an instance of `SparkSession`, and get the `DataStreamReader`\n",
        "2. We will make sure to only consume only 1 file per trigger for this Data.\n",
        "3. We have Specified the stream's schema using the instance `dataSchema`\n",
        "4. Use `dsr.parquet()` to specify the stream's file type and source directory, `dataPath` \n",
        "\n",
        "When you are done, run the TEST cell that follows to verify your results."
      ]
    },
    {
      "cell_type": "code",
      "metadata": {
        "application/vnd.databricks.v1+cell": {
          "title": "",
          "showTitle": false,
          "inputWidgets": {},
          "nuid": "2f92706a-1c86-449c-8591-6cf8af3b5b6b"
        },
        "id": "nc9Fe-TKxoDg",
        "outputId": "dd702ea9-1914-4979-f229-232c7decfaca"
      },
      "source": [
        "# TODO\n",
        "dataSchema = \"DepartureAt timestamp, FlightDate string, DepTime string, CRSDepTime string, ArrTime string, CRSArrTime string, UniqueCarrier string, FlightNum integer, TailNum string, ActualElapsedTime string, CRSElapsedTime string, AirTime string, ArrDelay string, DepDelay string, Origin string, Dest string, Distance string, TaxiIn string, TaxiOut string, Cancelled integer, CancellationCode string, Diverted integer, CarrierDelay string, WeatherDelay string, NASDelay string, SecurityDelay string, LateAircraftDelay string\"\n",
        "\n",
        "dataPath = \"dbfs:/mnt/training/asa/flights/2007-01-stream.parquet\"\n",
        "\n",
        "initialDF = (spark.readStream\n",
        "             .option(\"maxFilesPerTrigger\", 1)\n",
        "             .schema(dataSchema)\n",
        "             .parquet(dataPath)\n",
        ")"
      ],
      "execution_count": null,
      "outputs": [
        {
          "output_type": "display_data",
          "data": {
            "text/html": [
              "<style scoped>\n",
              "  .ansiout {\n",
              "    display: block;\n",
              "    unicode-bidi: embed;\n",
              "    white-space: pre-wrap;\n",
              "    word-wrap: break-word;\n",
              "    word-break: break-all;\n",
              "    font-family: \"Source Code Pro\", \"Menlo\", monospace;;\n",
              "    font-size: 13px;\n",
              "    color: #555;\n",
              "    margin-left: 4px;\n",
              "    line-height: 19px;\n",
              "  }\n",
              "</style>\n",
              "<div class=\"ansiout\"></div>"
            ]
          },
          "metadata": {
            "tags": [],
            "application/vnd.databricks.v1+output": {
              "datasetInfos": [],
              "data": "<div class=\"ansiout\"></div>",
              "removedWidgets": [],
              "addedWidgets": {},
              "type": "html",
              "arguments": {}
            }
          }
        }
      ]
    },
    {
      "cell_type": "markdown",
      "metadata": {
        "application/vnd.databricks.v1+cell": {
          "title": "",
          "showTitle": false,
          "inputWidgets": {},
          "nuid": "94c2a07a-2ec2-4801-b143-32be7a575b74"
        },
        "id": "JS4SoMJXxoDi"
      },
      "source": [
        "\n",
        "<h2><img src=\"https://files.training.databricks.com/images/105/logo_spark_tiny.png\"> Calculate the total of all delays</h2>\n",
        "\n",
        "We want to calculate (and later graph) the total delay of each flight\n",
        "1. Start with `initialDF` from the previous cell. \n",
        "2. Convert the following columns from `String` to `Integer`: `CarrierDelay`, `WeatherDelay`, `NASDelay`, `SecurityDelay` and `LateAircraftDelay`\n",
        "3. Add the column `TotalDelay` which is the sum of the other 5 delays\n",
        "4. Filter the flights by `UniqueCarrier` down to the carriers **AS**, **AQ**, **HA** and **F9**\n",
        "5. Filter the results to non-zero delay's (`TotalDelay` > 0)\n",
        "6. Assign the final DataFrame to `delaysDF`\n",
        "\n"
      ]
    },
    {
      "cell_type": "code",
      "metadata": {
        "application/vnd.databricks.v1+cell": {
          "title": "",
          "showTitle": false,
          "inputWidgets": {},
          "nuid": "cb15633a-404b-4aa7-8184-537b2a1739b1"
        },
        "id": "rqBAXTDvxoDj",
        "outputId": "e7028a3d-81fd-4020-cbb2-4aa4293ef618"
      },
      "source": [
        "# TODO\n",
        "from pyspark.sql.functions import *\n",
        "delaysDF = (initialDF\n",
        "  .withColumn(\"CarrierDelay\", col(\"CarrierDelay\").cast(\"integer\"))  # Convert CarrierDelay to an Integer\n",
        "  .withColumn(\"WeatherDelay\", col(\"WeatherDelay\").cast(\"integer\"))  # Convert WeatherDelay to an Integer\n",
        "  .withColumn(\"NASDelay\", col(\"NASDelay\").cast(\"integer\"))  # Convert NASDelay to an Integer\n",
        "  .withColumn(\"SecurityDelay\", col(\"SecurityDelay\").cast(\"integer\"))  # Convert SecurityDelay to an Integer\n",
        "  .withColumn(\"LateAircraftDelay\", col(\"LateAircraftDelay\").cast(\"integer\"))  # Convert LateAircraftDelay to an Integer\n",
        "  .withColumn(\"TotalDelay\", col(\"CarrierDelay\")+col(\"WeatherDelay\")+col(\"NASDelay\")+col(\"SecurityDelay\")+col(\"LateAircraftDelay\"))  # Sum all five as TotalDelay\n",
        "  .filter(col(\"UniqueCarrier\").isin(\"AS\",\"AQ\",\"HA\",\"F9\"))   # Filter UniqueCarrier to only \"AS\", \"AQ\", \"HA\" and \"F9\"\n",
        "  .filter(col(\"TotalDelay\") > 0)  # TotalDelay to non-zero values\n",
        ")"
      ],
      "execution_count": null,
      "outputs": [
        {
          "output_type": "display_data",
          "data": {
            "text/html": [
              "<style scoped>\n",
              "  .ansiout {\n",
              "    display: block;\n",
              "    unicode-bidi: embed;\n",
              "    white-space: pre-wrap;\n",
              "    word-wrap: break-word;\n",
              "    word-break: break-all;\n",
              "    font-family: \"Source Code Pro\", \"Menlo\", monospace;;\n",
              "    font-size: 13px;\n",
              "    color: #555;\n",
              "    margin-left: 4px;\n",
              "    line-height: 19px;\n",
              "  }\n",
              "</style>\n",
              "<div class=\"ansiout\"></div>"
            ]
          },
          "metadata": {
            "tags": [],
            "application/vnd.databricks.v1+output": {
              "datasetInfos": [],
              "data": "<div class=\"ansiout\"></div>",
              "removedWidgets": [],
              "addedWidgets": {},
              "type": "html",
              "arguments": {}
            }
          }
        }
      ]
    },
    {
      "cell_type": "markdown",
      "metadata": {
        "application/vnd.databricks.v1+cell": {
          "title": "",
          "showTitle": false,
          "inputWidgets": {},
          "nuid": "9b5df4bb-a711-4350-b35a-c4a1985f1cc0"
        },
        "id": "GuHvG-GZxoDl"
      },
      "source": [
        "<h2><img src=\"https://files.training.databricks.com/images/105/logo_spark_tiny.png\">Plot a LIVE graph</h2>\n",
        "\n",
        "Plot `delaysDF` and give the stream the name \"delays_python\"\n",
        "\n",
        "Once the data is loaded, render a line graph with \n",
        "* **Keys** is set to `DepartureAt`\n",
        "* **Series groupings** is set to `UniqueCarrier`\n",
        "* **Values** is set to `TotalDelay`\n"
      ]
    },
    {
      "cell_type": "code",
      "metadata": {
        "application/vnd.databricks.v1+cell": {
          "title": "",
          "showTitle": false,
          "inputWidgets": {},
          "nuid": "370f577a-d489-4ad3-a8f9-70bf36092cc8"
        },
        "id": "f8KunacExoDl",
        "outputId": "9d404328-a515-4cb4-dbf1-9fa5a698698e"
      },
      "source": [
        "initialDF.isStreaming"
      ],
      "execution_count": null,
      "outputs": [
        {
          "output_type": "display_data",
          "data": {
            "text/html": [
              "<style scoped>\n",
              "  .ansiout {\n",
              "    display: block;\n",
              "    unicode-bidi: embed;\n",
              "    white-space: pre-wrap;\n",
              "    word-wrap: break-word;\n",
              "    word-break: break-all;\n",
              "    font-family: \"Source Code Pro\", \"Menlo\", monospace;;\n",
              "    font-size: 13px;\n",
              "    color: #555;\n",
              "    margin-left: 4px;\n",
              "    line-height: 19px;\n",
              "  }\n",
              "</style>\n",
              "<div class=\"ansiout\">Out[26]: True</div>"
            ]
          },
          "metadata": {
            "tags": [],
            "application/vnd.databricks.v1+output": {
              "datasetInfos": [],
              "data": "<div class=\"ansiout\">Out[26]: True</div>",
              "removedWidgets": [],
              "addedWidgets": {},
              "type": "html",
              "arguments": {}
            }
          }
        }
      ]
    },
    {
      "cell_type": "code",
      "metadata": {
        "id": "WnjRbSzC7zRY"
      },
      "source": [
        "# TODO\n",
        "myStreamName = \"delays_python\"\n",
        "display(delaysDF, streamName = myStreamName)"
      ],
      "execution_count": null,
      "outputs": []
    },
    {
      "cell_type": "code",
      "metadata": {
        "application/vnd.databricks.v1+cell": {
          "title": "",
          "showTitle": false,
          "inputWidgets": {},
          "nuid": "3a7a408d-3bba-4553-bb01-e9a91e3a3d62"
        },
        "id": "FUG2gNtPxoDm",
        "outputId": "83d05366-4bb7-4be5-8eb0-1f6c0d333431"
      },
      "source": [
        "# TEST - Run this cell to test your solution.\n",
        "count = 0\n",
        "for s in spark.streams.active:\n",
        "  if (s.name == myStreamName):\n",
        "    count = count + 1\n",
        "\n",
        "dbTest(\"SS-02-runningCount\", 1, count)\n",
        "\n",
        "print(\"Tests passed!\")"
      ],
      "execution_count": null,
      "outputs": [
        {
          "output_type": "display_data",
          "data": {
            "text/html": [
              "<style scoped>\n",
              "  .ansiout {\n",
              "    display: block;\n",
              "    unicode-bidi: embed;\n",
              "    white-space: pre-wrap;\n",
              "    word-wrap: break-word;\n",
              "    word-break: break-all;\n",
              "    font-family: \"Source Code Pro\", \"Menlo\", monospace;;\n",
              "    font-size: 13px;\n",
              "    color: #555;\n",
              "    margin-left: 4px;\n",
              "    line-height: 19px;\n",
              "  }\n",
              "</style>\n",
              "<div class=\"ansiout\">Tests passed!\n",
              "</div>"
            ]
          },
          "metadata": {
            "tags": [],
            "application/vnd.databricks.v1+output": {
              "datasetInfos": [],
              "data": "<div class=\"ansiout\">Tests passed!\n</div>",
              "removedWidgets": [],
              "addedWidgets": {},
              "type": "html",
              "arguments": {}
            }
          }
        }
      ]
    },
    {
      "cell_type": "markdown",
      "metadata": {
        "application/vnd.databricks.v1+cell": {
          "title": "",
          "showTitle": false,
          "inputWidgets": {},
          "nuid": "e359af5c-568c-4d37-a205-52d03f8181fe"
        },
        "id": "nwhoBlCYxoDn"
      },
      "source": [
        "When you are done, stop the stream:"
      ]
    },
    {
      "cell_type": "code",
      "metadata": {
        "application/vnd.databricks.v1+cell": {
          "title": "",
          "showTitle": false,
          "inputWidgets": {},
          "nuid": "7c6c5dad-e3b5-4d59-bb2b-016a5e803325"
        },
        "id": "mMIOVifRxoDn",
        "outputId": "95badcf6-65f4-48d2-e062-04703e93e95f"
      },
      "source": [
        "stopAllStreams()"
      ],
      "execution_count": null,
      "outputs": [
        {
          "output_type": "display_data",
          "data": {
            "text/html": [
              "<style scoped>\n",
              "  .ansiout {\n",
              "    display: block;\n",
              "    unicode-bidi: embed;\n",
              "    white-space: pre-wrap;\n",
              "    word-wrap: break-word;\n",
              "    word-break: break-all;\n",
              "    font-family: \"Source Code Pro\", \"Menlo\", monospace;;\n",
              "    font-size: 13px;\n",
              "    color: #555;\n",
              "    margin-left: 4px;\n",
              "    line-height: 19px;\n",
              "  }\n",
              "</style>\n",
              "<div class=\"ansiout\">Stopping the stream delays_python.\n",
              "The stream delays_python was stopped.\n",
              "</div>"
            ]
          },
          "metadata": {
            "tags": [],
            "application/vnd.databricks.v1+output": {
              "datasetInfos": [],
              "data": "<div class=\"ansiout\">Stopping the stream delays_python.\nThe stream delays_python was stopped.\n</div>",
              "removedWidgets": [],
              "addedWidgets": {},
              "type": "html",
              "arguments": {}
            }
          }
        }
      ]
    },
    {
      "cell_type": "markdown",
      "metadata": {
        "application/vnd.databricks.v1+cell": {
          "title": "",
          "showTitle": false,
          "inputWidgets": {},
          "nuid": "7164effe-c059-418e-8ce5-24b00833612e"
        },
        "id": "TaTLRE4xxoDn"
      },
      "source": [
        "<h2><img src=\"https://files.training.databricks.com/images/105/logo_spark_tiny.png\">Write Stream</h2>\n",
        "\n",
        "Write the stream to an in-memory table\n",
        "1. Use appropriate `format`\n",
        "2. For this exercise, we want to append new records to the results table\n",
        "3. We have configured a 15 second trigger\n",
        "4. Name the query \"delays_python\"\n",
        "5. Start the query\n",
        "6. Assign the query to `delayQuery`"
      ]
    },
    {
      "cell_type": "code",
      "metadata": {
        "application/vnd.databricks.v1+cell": {
          "title": "",
          "showTitle": false,
          "inputWidgets": {},
          "nuid": "df0b74a9-39eb-4694-ad63-1e0c01cb77af"
        },
        "id": "dktYxPRcxoDo",
        "outputId": "1d424929-770e-48b3-d5f0-f3740265e498"
      },
      "source": [
        "# TODO\n",
        "delayQuery = (delaysDF.writeStream              # From the DataFrame get the DataStreamWriter\n",
        "             .format(\"memory\")             # Specify the sink format as \"memory\"\n",
        "             .outputMode(\"append\")               # Configure the output mode as \"append\"\n",
        "             .queryName(myStreamName) # Name the query with myStreamName\n",
        "             .trigger(processingTime = \"15 seconds\")               # Use a 15 second trigger\n",
        "             .start()               # Start the query\n",
        ")"
      ],
      "execution_count": null,
      "outputs": [
        {
          "output_type": "display_data",
          "data": {
            "text/html": [
              "<style scoped>\n",
              "  .ansiout {\n",
              "    display: block;\n",
              "    unicode-bidi: embed;\n",
              "    white-space: pre-wrap;\n",
              "    word-wrap: break-word;\n",
              "    word-break: break-all;\n",
              "    font-family: \"Source Code Pro\", \"Menlo\", monospace;;\n",
              "    font-size: 13px;\n",
              "    color: #555;\n",
              "    margin-left: 4px;\n",
              "    line-height: 19px;\n",
              "  }\n",
              "</style>\n",
              "<div class=\"ansiout\"></div>"
            ]
          },
          "metadata": {
            "tags": [],
            "application/vnd.databricks.v1+output": {
              "datasetInfos": [],
              "data": "<div class=\"ansiout\"></div>",
              "removedWidgets": [],
              "addedWidgets": {},
              "type": "html",
              "arguments": {}
            }
          }
        }
      ]
    },
    {
      "cell_type": "code",
      "metadata": {
        "application/vnd.databricks.v1+cell": {
          "title": "",
          "showTitle": false,
          "inputWidgets": {},
          "nuid": "fe295c21-3737-4669-a7b4-e8c4d6196f15"
        },
        "id": "9hVFfav4xoDo",
        "outputId": "e5dfb820-9151-417d-bf1a-142deff51d61"
      },
      "source": [
        "# TEST - Run this cell to test your solution.\n",
        "dbTest(\"SS-02-isActive\", True, delayQuery.isActive)\n",
        "dbTest(\"SS-02-name\", myStreamName, delayQuery.name)\n",
        "# The query's trigger is not available via the Python API\n",
        "\n",
        "print(\"Tests passed!\")"
      ],
      "execution_count": null,
      "outputs": [
        {
          "output_type": "display_data",
          "data": {
            "text/html": [
              "<style scoped>\n",
              "  .ansiout {\n",
              "    display: block;\n",
              "    unicode-bidi: embed;\n",
              "    white-space: pre-wrap;\n",
              "    word-wrap: break-word;\n",
              "    word-break: break-all;\n",
              "    font-family: \"Source Code Pro\", \"Menlo\", monospace;;\n",
              "    font-size: 13px;\n",
              "    color: #555;\n",
              "    margin-left: 4px;\n",
              "    line-height: 19px;\n",
              "  }\n",
              "</style>\n",
              "<div class=\"ansiout\">Tests passed!\n",
              "</div>"
            ]
          },
          "metadata": {
            "tags": [],
            "application/vnd.databricks.v1+output": {
              "datasetInfos": [],
              "data": "<div class=\"ansiout\">Tests passed!\n</div>",
              "removedWidgets": [],
              "addedWidgets": {},
              "type": "html",
              "arguments": {}
            }
          }
        }
      ]
    },
    {
      "cell_type": "markdown",
      "metadata": {
        "application/vnd.databricks.v1+cell": {
          "title": "",
          "showTitle": false,
          "inputWidgets": {},
          "nuid": "6a5e3ddc-cc90-45fc-923a-71516eea1f3c"
        },
        "id": "oI8rJot7xoDo"
      },
      "source": [
        "Wait until stream is done initializing..."
      ]
    },
    {
      "cell_type": "code",
      "metadata": {
        "id": "z9_VzmI58w6M"
      },
      "source": [
        "myStreamName = \"delays_python\""
      ],
      "execution_count": null,
      "outputs": []
    },
    {
      "cell_type": "markdown",
      "metadata": {
        "application/vnd.databricks.v1+cell": {
          "title": "",
          "showTitle": false,
          "inputWidgets": {},
          "nuid": "a20832d8-a3a0-4a86-a6e9-255ab24e26fb"
        },
        "id": "hxPXRaFRxoDp"
      },
      "source": [
        "<h2><img src=\"https://files.training.databricks.com/images/105/logo_spark_tiny.\n",
        "\n",
        "*   List item\n",
        "*   List item\n",
        "\n",
        "png\"> Exercise 5: Stop streaming jobs</h2>\n",
        "\n",
        "Before we can conclude, we need to shut down all active streams."
      ]
    },
    {
      "cell_type": "code",
      "metadata": {
        "application/vnd.databricks.v1+cell": {
          "title": "",
          "showTitle": false,
          "inputWidgets": {},
          "nuid": "f55cadca-4511-4a7c-ae07-f33dc46d7927"
        },
        "id": "Dj-AX1l4xoDp",
        "outputId": "06542bb0-358c-4684-ab9c-43e927f6a3c5"
      },
      "source": [
        "# TODO\n",
        "for streams in spark.streams.active:# Iterate over all active streams\n",
        "  try:\n",
        "    print(\"stopping \" + streams.name)  # A little console output\n",
        "    streams.stop()     # Stop the stream\n",
        "    \n",
        "  except Exception as e:\n",
        "    print(\"some error occured\")"
      ],
      "execution_count": null,
      "outputs": [
        {
          "output_type": "display_data",
          "data": {
            "text/html": [
              "<style scoped>\n",
              "  .ansiout {\n",
              "    display: block;\n",
              "    unicode-bidi: embed;\n",
              "    white-space: pre-wrap;\n",
              "    word-wrap: break-word;\n",
              "    word-break: break-all;\n",
              "    font-family: \"Source Code Pro\", \"Menlo\", monospace;;\n",
              "    font-size: 13px;\n",
              "    color: #555;\n",
              "    margin-left: 4px;\n",
              "    line-height: 19px;\n",
              "  }\n",
              "</style>\n",
              "<div class=\"ansiout\">stopping delays_python\n",
              "</div>"
            ]
          },
          "metadata": {
            "tags": [],
            "application/vnd.databricks.v1+output": {
              "datasetInfos": [],
              "data": "<div class=\"ansiout\">stopping delays_python\n</div>",
              "removedWidgets": [],
              "addedWidgets": {},
              "type": "html",
              "arguments": {}
            }
          }
        }
      ]
    },
    {
      "cell_type": "code",
      "metadata": {
        "application/vnd.databricks.v1+cell": {
          "title": "",
          "showTitle": false,
          "inputWidgets": {},
          "nuid": "9ea8590d-7a48-445b-b3a0-2befa6c1e1f1"
        },
        "id": "C7dFfBC8xoDq",
        "outputId": "11d4bcab-46d3-443a-df9b-a021136807fa"
      },
      "source": [
        "# TEST - Run this cell to test your solution.\n",
        "dbTest(\"SS-02-numActiveStreams\", 0, len(spark.streams.active))\n",
        "\n",
        "print(\"Tests passed!\")"
      ],
      "execution_count": null,
      "outputs": [
        {
          "output_type": "display_data",
          "data": {
            "text/html": [
              "<style scoped>\n",
              "  .ansiout {\n",
              "    display: block;\n",
              "    unicode-bidi: embed;\n",
              "    white-space: pre-wrap;\n",
              "    word-wrap: break-word;\n",
              "    word-break: break-all;\n",
              "    font-family: \"Source Code Pro\", \"Menlo\", monospace;;\n",
              "    font-size: 13px;\n",
              "    color: #555;\n",
              "    margin-left: 4px;\n",
              "    line-height: 19px;\n",
              "  }\n",
              "</style>\n",
              "<div class=\"ansiout\">Tests passed!\n",
              "</div>"
            ]
          },
          "metadata": {
            "tags": [],
            "application/vnd.databricks.v1+output": {
              "datasetInfos": [],
              "data": "<div class=\"ansiout\">Tests passed!\n</div>",
              "removedWidgets": [],
              "addedWidgets": {},
              "type": "html",
              "arguments": {}
            }
          }
        }
      ]
    },
    {
      "cell_type": "markdown",
      "metadata": {
        "application/vnd.databricks.v1+cell": {
          "title": "",
          "showTitle": false,
          "inputWidgets": {},
          "nuid": "dc213c45-5339-47a2-a648-66c8fe0fd5e1"
        },
        "id": "aZedkyMcxoDq"
      },
      "source": [
        "## ![Spark Logo Tiny](https://files.training.databricks.com/images/105/logo_spark_tiny.png) Classroom-Cleanup<br>\n",
        "\n",
        "Run the **`Classroom-Cleanup`** cell below to remove any artifacts created by this lesson."
      ]
    },
    {
      "cell_type": "code",
      "metadata": {
        "id": "cBnXY4eY8ATY"
      },
      "source": [
        "%run \"../Includes/Classroom-Cleanup\""
      ],
      "execution_count": null,
      "outputs": []
    },
    {
      "cell_type": "markdown",
      "metadata": {
        "application/vnd.databricks.v1+cell": {
          "title": "",
          "showTitle": false,
          "inputWidgets": {},
          "nuid": "ae944492-6dbc-45f5-9da5-ca79195cc2b4"
        },
        "id": "dj0bhQ3WxoDq"
      },
      "source": [
        "<h2><img src=\"https://files.training.databricks.com/images/105/logo_spark_tiny.png\"> Next Steps</h2>\n",
        "\n",
        "Start the next part, [Time Windows]($../SS 03 - Time Windows)."
      ]
    },
    {
      "cell_type": "markdown",
      "metadata": {
        "application/vnd.databricks.v1+cell": {
          "title": "",
          "showTitle": false,
          "inputWidgets": {},
          "nuid": "28ddc8a0-11a3-4ab9-b39a-fc855ba57e50"
        },
        "id": "I4ntnFOYxoDr"
      },
      "source": [
        ""
      ]
    }
  ]
}