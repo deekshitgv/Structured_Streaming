{
  "nbformat": 4,
  "nbformat_minor": 0,
  "metadata": {
    "application/vnd.databricks.v1+notebook": {
      "notebookName": "SS 04a - Using Kafka Lab",
      "dashboards": [],
      "notebookMetadata": {
        "pythonIndentUnit": 2
      },
      "language": "python",
      "widgets": {},
      "notebookOrigID": 3357031427824876
    },
    "colab": {
      "name": "SS 04a - Using Kafka Lab.ipynb",
      "provenance": [],
      "collapsed_sections": []
    }
  },
  "cells": [
    {
      "cell_type": "markdown",
      "metadata": {
        "application/vnd.databricks.v1+cell": {
          "title": "",
          "showTitle": false,
          "inputWidgets": {},
          "nuid": "a3836ae7-7732-476e-8fac-4a6db8b624ac"
        },
        "id": "IQXobFLjHWe4"
      },
      "source": [
        "# Structured Streaming with Kafka Lab\n",
        "\n",
        "## Prerequisites\n",
        "* Web browser: **Chrome**\n",
        "* Familiarity with Kafka\n",
        "* A cluster configured with **8 cores** and **DBR 6.2**\n",
        "* External Services\n",
        "  - Familiarity with Kafka is helpful!"
      ]
    },
    {
      "cell_type": "markdown",
      "metadata": {
        "application/vnd.databricks.v1+cell": {
          "title": "",
          "showTitle": false,
          "inputWidgets": {},
          "nuid": "0895d372-38a0-4615-b8da-e5d11bce311b"
        },
        "id": "a6FcfU2NHWe5"
      },
      "source": [
        "## ![Spark Logo Tiny](https://files.training.databricks.com/images/105/logo_spark_tiny.png) Classroom-Setup\n",
        "\n",
        "For each lesson to execute correctly, please make sure to run the **`Classroom-Setup`** cell at the<br/>\n",
        "start of each lesson (see the next cell) and the **`Classroom-Cleanup`** cell at the end."
      ]
    },
    {
      "cell_type": "code",
      "metadata": {
        "application/vnd.databricks.v1+cell": {
          "title": "",
          "showTitle": false,
          "inputWidgets": {},
          "nuid": "9555f162-f538-41b3-8ae5-d98215d664c7"
        },
        "id": "dkcmFpZNHWe6",
        "outputId": "f001964b-7517-497a-e8cf-b8ce773dac27"
      },
      "source": [
        "%run \"../Includes/Classroom-Setup\""
      ],
      "execution_count": null,
      "outputs": [
        {
          "output_type": "display_data",
          "data": {
            "text/html": [
              "<style scoped>\n",
              "  .ansiout {\n",
              "    display: block;\n",
              "    unicode-bidi: embed;\n",
              "    white-space: pre-wrap;\n",
              "    word-wrap: break-word;\n",
              "    word-break: break-all;\n",
              "    font-family: \"Source Code Pro\", \"Menlo\", monospace;;\n",
              "    font-size: 13px;\n",
              "    color: #555;\n",
              "    margin-left: 4px;\n",
              "    line-height: 19px;\n",
              "  }\n",
              "</style>\n",
              "<div class=\"ansiout\"></div>"
            ]
          },
          "metadata": {
            "tags": [],
            "application/vnd.databricks.v1+output": {
              "datasetInfos": [],
              "data": "<div class=\"ansiout\"></div>",
              "removedWidgets": [],
              "addedWidgets": {},
              "type": "html",
              "arguments": {}
            }
          }
        },
        {
          "output_type": "display_data",
          "data": {
            "text/html": [
              "Preparing the Python environment..."
            ]
          },
          "metadata": {
            "tags": [],
            "application/vnd.databricks.v1+output": {
              "datasetInfos": [],
              "data": "Preparing the Python environment...",
              "textData": null,
              "removedWidgets": [],
              "addedWidgets": {},
              "type": "htmlSandbox",
              "arguments": {}
            }
          }
        },
        {
          "output_type": "display_data",
          "data": {
            "text/html": [
              "Defining courseware-specific utility methods..."
            ]
          },
          "metadata": {
            "tags": [],
            "application/vnd.databricks.v1+output": {
              "datasetInfos": [],
              "data": "Defining courseware-specific utility methods...",
              "textData": null,
              "removedWidgets": [],
              "addedWidgets": {},
              "type": "htmlSandbox",
              "arguments": {}
            }
          }
        },
        {
          "output_type": "display_data",
          "data": {
            "text/html": [
              "<style scoped>\n",
              "  .ansiout {\n",
              "    display: block;\n",
              "    unicode-bidi: embed;\n",
              "    white-space: pre-wrap;\n",
              "    word-wrap: break-word;\n",
              "    word-break: break-all;\n",
              "    font-family: \"Source Code Pro\", \"Menlo\", monospace;;\n",
              "    font-size: 13px;\n",
              "    color: #555;\n",
              "    margin-left: 4px;\n",
              "    line-height: 19px;\n",
              "  }\n",
              "</style>\n",
              "<div class=\"ansiout\"></div>"
            ]
          },
          "metadata": {
            "tags": [],
            "application/vnd.databricks.v1+output": {
              "datasetInfos": [],
              "data": "<div class=\"ansiout\"></div>",
              "removedWidgets": [],
              "addedWidgets": {},
              "type": "html",
              "arguments": {}
            }
          }
        },
        {
          "output_type": "display_data",
          "data": {
            "text/html": [
              "Defining user-facing utility methods..."
            ]
          },
          "metadata": {
            "tags": [],
            "application/vnd.databricks.v1+output": {
              "datasetInfos": [],
              "data": "Defining user-facing utility methods...",
              "textData": null,
              "removedWidgets": [],
              "addedWidgets": {},
              "type": "htmlSandbox",
              "arguments": {}
            }
          }
        },
        {
          "output_type": "display_data",
          "data": {
            "text/html": [
              "Defining custom variables for this lesson..."
            ]
          },
          "metadata": {
            "tags": [],
            "application/vnd.databricks.v1+output": {
              "datasetInfos": [],
              "data": "Defining custom variables for this lesson...",
              "textData": null,
              "removedWidgets": [],
              "addedWidgets": {},
              "type": "htmlSandbox",
              "arguments": {}
            }
          }
        },
        {
          "output_type": "display_data",
          "data": {
            "text/html": [
              "Initializing Databricks Academy's testing framework..."
            ]
          },
          "metadata": {
            "tags": [],
            "application/vnd.databricks.v1+output": {
              "datasetInfos": [],
              "data": "Initializing Databricks Academy's testing framework...",
              "textData": null,
              "removedWidgets": [],
              "addedWidgets": {},
              "type": "htmlSandbox",
              "arguments": {}
            }
          }
        },
        {
          "output_type": "display_data",
          "data": {
            "text/html": [
              "Initializing Databricks Academy's services for generating dynamic data..."
            ]
          },
          "metadata": {
            "tags": [],
            "application/vnd.databricks.v1+output": {
              "datasetInfos": [],
              "data": "Initializing Databricks Academy's services for generating dynamic data...",
              "textData": null,
              "removedWidgets": [],
              "addedWidgets": {},
              "type": "htmlSandbox",
              "arguments": {}
            }
          }
        },
        {
          "output_type": "display_data",
          "data": {
            "text/html": [
              "Mounting course-specific datasets to <b>/mnt/training</b>...</br>Datasets are already mounted to <b>/mnt/training</b> from <b>s3a://databricks-corp-training/common</b>"
            ]
          },
          "metadata": {
            "tags": [],
            "application/vnd.databricks.v1+output": {
              "datasetInfos": [],
              "data": "Mounting course-specific datasets to <b>/mnt/training</b>...</br>Datasets are already mounted to <b>/mnt/training</b> from <b>s3a://databricks-corp-training/common</b>",
              "textData": null,
              "removedWidgets": [],
              "addedWidgets": {},
              "type": "htmlSandbox",
              "arguments": {}
            }
          }
        },
        {
          "output_type": "display_data",
          "data": {
            "text/html": [
              "<style scoped>\n",
              "  .ansiout {\n",
              "    display: block;\n",
              "    unicode-bidi: embed;\n",
              "    white-space: pre-wrap;\n",
              "    word-wrap: break-word;\n",
              "    word-break: break-all;\n",
              "    font-family: \"Source Code Pro\", \"Menlo\", monospace;;\n",
              "    font-size: 13px;\n",
              "    color: #555;\n",
              "    margin-left: 4px;\n",
              "    line-height: 19px;\n",
              "  }\n",
              "</style>\n",
              "<div class=\"ansiout\"></div>"
            ]
          },
          "metadata": {
            "tags": [],
            "application/vnd.databricks.v1+output": {
              "datasetInfos": [],
              "data": "<div class=\"ansiout\"></div>",
              "removedWidgets": [],
              "addedWidgets": {},
              "type": "html",
              "arguments": {}
            }
          }
        },
        {
          "output_type": "display_data",
          "data": {
            "text/html": [
              "<style scoped>\n",
              "  .ansiout {\n",
              "    display: block;\n",
              "    unicode-bidi: embed;\n",
              "    white-space: pre-wrap;\n",
              "    word-wrap: break-word;\n",
              "    word-break: break-all;\n",
              "    font-family: \"Source Code Pro\", \"Menlo\", monospace;;\n",
              "    font-size: 13px;\n",
              "    color: #555;\n",
              "    margin-left: 4px;\n",
              "    line-height: 19px;\n",
              "  }\n",
              "</style>\n",
              "<div class=\"ansiout\"></div>"
            ]
          },
          "metadata": {
            "tags": [],
            "application/vnd.databricks.v1+output": {
              "datasetInfos": [],
              "data": "<div class=\"ansiout\"></div>",
              "removedWidgets": [],
              "addedWidgets": {},
              "type": "html",
              "arguments": {}
            }
          }
        },
        {
          "output_type": "display_data",
          "data": {
            "text/html": [
              "Cleaning up the learning environment...no actions taken."
            ]
          },
          "metadata": {
            "tags": [],
            "application/vnd.databricks.v1+output": {
              "datasetInfos": [],
              "data": "Cleaning up the learning environment...no actions taken.",
              "textData": null,
              "removedWidgets": [],
              "addedWidgets": {},
              "type": "htmlSandbox",
              "arguments": {}
            }
          }
        },
        {
          "output_type": "display_data",
          "data": {
            "text/html": [
              "\n",
              "      <div style=\"color:red; font-weight:bold\">WARNING: This notebook was tested on DBR 6.2, but we found DBR 8.0.</div>\n",
              "      <div style=\"font-weight:bold\">Using an untested DBR may yield unexpected results and/or various errors</div>\n",
              "      <div style=\"font-weight:bold\">Please update your cluster configuration and/or <a href=\"https://academy.databricks.com/\" target=\"_blank\">download a newer version of this course</a> before proceeding.</div>\n",
              "    "
            ]
          },
          "metadata": {
            "tags": [],
            "application/vnd.databricks.v1+output": {
              "datasetInfos": [],
              "data": "\n      <div style=\"color:red; font-weight:bold\">WARNING: This notebook was tested on DBR 6.2, but we found DBR 8.0.</div>\n      <div style=\"font-weight:bold\">Using an untested DBR may yield unexpected results and/or various errors</div>\n      <div style=\"font-weight:bold\">Please update your cluster configuration and/or <a href=\"https://academy.databricks.com/\" target=\"_blank\">download a newer version of this course</a> before proceeding.</div>\n    ",
              "textData": null,
              "removedWidgets": [],
              "addedWidgets": {},
              "type": "htmlSandbox",
              "arguments": {}
            }
          }
        },
        {
          "output_type": "display_data",
          "data": {
            "text/html": [
              "All done!"
            ]
          },
          "metadata": {
            "tags": [],
            "application/vnd.databricks.v1+output": {
              "datasetInfos": [],
              "data": "All done!",
              "textData": null,
              "removedWidgets": [],
              "addedWidgets": {},
              "type": "htmlSandbox",
              "arguments": {}
            }
          }
        }
      ]
    },
    {
      "cell_type": "markdown",
      "metadata": {
        "application/vnd.databricks.v1+cell": {
          "title": "",
          "showTitle": false,
          "inputWidgets": {},
          "nuid": "4cca4cb4-5af4-491a-8cd3-935a8625b514"
        },
        "id": "Fe1XqrcOHWe8"
      },
      "source": [
        "Define the name of the stream we are to use later in this lesson:"
      ]
    },
    {
      "cell_type": "code",
      "metadata": {
        "application/vnd.databricks.v1+cell": {
          "title": "",
          "showTitle": false,
          "inputWidgets": {},
          "nuid": "42f94787-230a-4664-9b24-10bec2e5884d"
        },
        "id": "e5gW9kxHHWe9",
        "outputId": "5f4018a1-7bae-456b-ff9d-00951d7a27ef"
      },
      "source": [
        "myStreamName = \"lab04a_ps\""
      ],
      "execution_count": null,
      "outputs": [
        {
          "output_type": "display_data",
          "data": {
            "text/html": [
              "<style scoped>\n",
              "  .ansiout {\n",
              "    display: block;\n",
              "    unicode-bidi: embed;\n",
              "    white-space: pre-wrap;\n",
              "    word-wrap: break-word;\n",
              "    word-break: break-all;\n",
              "    font-family: \"Source Code Pro\", \"Menlo\", monospace;;\n",
              "    font-size: 13px;\n",
              "    color: #555;\n",
              "    margin-left: 4px;\n",
              "    line-height: 19px;\n",
              "  }\n",
              "</style>\n",
              "<div class=\"ansiout\"></div>"
            ]
          },
          "metadata": {
            "tags": [],
            "application/vnd.databricks.v1+output": {
              "datasetInfos": [],
              "data": "<div class=\"ansiout\"></div>",
              "removedWidgets": [],
              "addedWidgets": {},
              "type": "html",
              "arguments": {}
            }
          }
        }
      ]
    },
    {
      "cell_type": "markdown",
      "metadata": {
        "application/vnd.databricks.v1+cell": {
          "title": "",
          "showTitle": false,
          "inputWidgets": {},
          "nuid": "379510c3-4155-4d5d-80f1-a973b75e6075"
        },
        "id": "Hg_0nnF4HWe9"
      },
      "source": [
        "<h2><img src=\"https://files.training.databricks.com/images/105/logo_spark_tiny.png\">Use Kafka to read a stream</h2>\n",
        "\n",
        "In this example, we are looking at a series of `ERROR`, `WARNING` and `INFO` log messages that are coming in via our Kafka server.\n",
        "\n",
        "We want to analyze how many log messages are coming from each IP address?\n",
        "\n",
        "Create `initialDF` with the following Kafka parameters:\n",
        "\n",
        "1. `format` is `kafka`\n",
        "2. `kafka.bootstrap.server` (pick the server closest to you)\n",
        "  * is `server1.databricks.training:9092` US (Oregon)\n",
        "  * or `server2.databricks.training:9092` Singapore\n",
        "3. `subscribe` is `logdata`\n",
        "\n",
        "When you are done, run the TEST cell that follows to verify your results."
      ]
    },
    {
      "cell_type": "code",
      "metadata": {
        "application/vnd.databricks.v1+cell": {
          "title": "",
          "showTitle": false,
          "inputWidgets": {},
          "nuid": "1ee9f0da-4c0f-40ba-a22a-ab5a06c1dc31"
        },
        "id": "Z9SEGoSBHWe-",
        "outputId": "3aee35a0-b13d-411f-c31d-152362051a53"
      },
      "source": [
        "# TODO\n",
        "spark.conf.set(\"spark.sql.shuffle.partitions\", sc.defaultParallelism)\n",
        "\n",
        "kafkaServer = \"server1.databricks.training:9092\" # Specify \"kafka\" bootstrap server\n",
        "\n",
        "# Create our initial DataFrame\n",
        "initialDF = (spark.readStream\n",
        " .format(\"kafka\")              # Specify \"kafka\" as the type of the stream\n",
        " .option(\"kafka.bootstrap.servers\", kafkaServer)           # Set the location of the kafka server\n",
        " .option(\"subscribe\", \"logdata\")              # Indicate which topics to listen to\n",
        " .option(\"startingOffets\", \"earliest\")              # Rewind stream to beginning when we restart notebook\n",
        " .option(\"maxOffsetsPerTrigger\", 1000)              # Throttle Kafka's processing of the streams\n",
        " .load()              # Load the input data stream in as a DataFrame\n",
        ")"
      ],
      "execution_count": null,
      "outputs": [
        {
          "output_type": "display_data",
          "data": {
            "text/html": [
              "<style scoped>\n",
              "  .ansiout {\n",
              "    display: block;\n",
              "    unicode-bidi: embed;\n",
              "    white-space: pre-wrap;\n",
              "    word-wrap: break-word;\n",
              "    word-break: break-all;\n",
              "    font-family: \"Source Code Pro\", \"Menlo\", monospace;;\n",
              "    font-size: 13px;\n",
              "    color: #555;\n",
              "    margin-left: 4px;\n",
              "    line-height: 19px;\n",
              "  }\n",
              "</style>\n",
              "<div class=\"ansiout\"></div>"
            ]
          },
          "metadata": {
            "tags": [],
            "application/vnd.databricks.v1+output": {
              "datasetInfos": [],
              "data": "<div class=\"ansiout\"></div>",
              "removedWidgets": [],
              "addedWidgets": {},
              "type": "html",
              "arguments": {}
            }
          }
        }
      ]
    },
    {
      "cell_type": "code",
      "metadata": {
        "application/vnd.databricks.v1+cell": {
          "title": "",
          "showTitle": false,
          "inputWidgets": {},
          "nuid": "f6f613d1-f059-425f-8863-52ca992975bc"
        },
        "id": "Vm38pTriHWe-",
        "outputId": "ffa34d4d-15b6-4f94-918b-4d3d87fece86"
      },
      "source": [
        "# TEST - Run this cell to test your solution.\n",
        "initSchemaStr = str(initialDF.schema)\n",
        "\n",
        "dbTest(\"SS-04-key\",       True, \"(key,BinaryType,true)\" in initSchemaStr)\n",
        "dbTest(\"SS-04-value\",     True, \"(value,BinaryType,true)\" in initSchemaStr)\n",
        "dbTest(\"SS-04-topic\",     True, \"(topic,StringType,true)\" in initSchemaStr)\n",
        "dbTest(\"SS-04-partition\", True, \"(partition,IntegerType,true)\" in initSchemaStr)\n",
        "dbTest(\"SS-04-offset\",    True, \"(offset,LongType,true)\" in initSchemaStr)\n",
        "dbTest(\"SS-04-timestamp\", True, \"(timestamp,TimestampType,true)\" in initSchemaStr)\n",
        "dbTest(\"SS-04-timestampType\", True, \"(timestampType,IntegerType,true)\" in initSchemaStr)\n",
        "\n",
        "print(\"Tests passed!\")"
      ],
      "execution_count": null,
      "outputs": [
        {
          "output_type": "display_data",
          "data": {
            "text/html": [
              "<style scoped>\n",
              "  .ansiout {\n",
              "    display: block;\n",
              "    unicode-bidi: embed;\n",
              "    white-space: pre-wrap;\n",
              "    word-wrap: break-word;\n",
              "    word-break: break-all;\n",
              "    font-family: \"Source Code Pro\", \"Menlo\", monospace;;\n",
              "    font-size: 13px;\n",
              "    color: #555;\n",
              "    margin-left: 4px;\n",
              "    line-height: 19px;\n",
              "  }\n",
              "</style>\n",
              "<div class=\"ansiout\">Tests passed!\n",
              "</div>"
            ]
          },
          "metadata": {
            "tags": [],
            "application/vnd.databricks.v1+output": {
              "datasetInfos": [],
              "data": "<div class=\"ansiout\">Tests passed!\n</div>",
              "removedWidgets": [],
              "addedWidgets": {},
              "type": "html",
              "arguments": {}
            }
          }
        }
      ]
    },
    {
      "cell_type": "code",
      "metadata": {
        "id": "TQOTImDTJNLt"
      },
      "source": [
        "display(initialDF, streamName = myStreamName)"
      ],
      "execution_count": null,
      "outputs": []
    },
    {
      "cell_type": "markdown",
      "metadata": {
        "application/vnd.databricks.v1+cell": {
          "title": "",
          "showTitle": false,
          "inputWidgets": {},
          "nuid": "fa542f6e-d7a2-48e2-8e6b-34650af75dab"
        },
        "id": "pwPR2WPyHWfA"
      },
      "source": [
        "<h2><img src=\"https://files.training.databricks.com/images/105/logo_spark_tiny.png\">Do Some ETL Processing</h2>\n",
        "\n",
        "Perform the following ETL steps:\n",
        "\n",
        "1. Cast `value` column to STRING\n",
        "2. `ts_string` is derived from `value` at positions 14 to 24,\n",
        "3. `epoc` is derived from `unix_timestamp` of `ts_string` using format \"yyyy/MM/dd HH:mm:ss.SSS\"\n",
        "4. `capturedAt` is derived from casting `epoc` to `timestamp` format\n",
        "5. `logData` is created by applying `regexp_extract` on `value`.. use this string `\"\"\"^.*\\]\\s+(.*)$\"\"\"`\n",
        "\n",
        "When you are done, run the TEST cell that follows to verify your results."
      ]
    },
    {
      "cell_type": "code",
      "metadata": {
        "application/vnd.databricks.v1+cell": {
          "title": "",
          "showTitle": false,
          "inputWidgets": {},
          "nuid": "fb8d2e90-2655-45d7-ba5b-398139ad3959"
        },
        "id": "IFygseY8HWfA",
        "outputId": "9e7058f8-c5b4-488a-b9a6-c3b0de8753c1"
      },
      "source": [
        "# TODO\n",
        "from pyspark.sql.functions import *\n",
        "\n",
        "cleanDF = (initialDF\n",
        " .withColumn(\"value\", col(\"value\").cast(\"String\"))  # Select the \"value\" column, cast \"value\" column to STRING\n",
        " .withColumn(\"ts_string\", col(\"value\").substr(14,24))  # Select the \"value\" column, pull substring(14, 24) from it and rename to \"ts_string\"\n",
        " .withColumn(\"epoc\", unix_timestamp(\"ts_string\", \"yyyy/MM/dd HH:mm:ss.SSS\"))  # Select the \"ts_string\" column, apply unix_timestamp to it and rename to \"epoc\"\n",
        " .withColumn(\"capturedAt\", col(\"epoc\").cast(\"timestamp\"))  # Select the \"epoc\" column and cast to a timestamp and rename it to \"capturedAt\"\n",
        " .withColumn(\"logData\", regexp_extract(\"value\",\"\"\"^.*\\]\\s+(.*)$\"\"\",1))  # Select the \"logData\" column and apply the regexp `\"\"\"^.*\\]\\s+(.*)$\"\"\"`\n",
        ")"
      ],
      "execution_count": null,
      "outputs": [
        {
          "output_type": "display_data",
          "data": {
            "text/html": [
              "<style scoped>\n",
              "  .ansiout {\n",
              "    display: block;\n",
              "    unicode-bidi: embed;\n",
              "    white-space: pre-wrap;\n",
              "    word-wrap: break-word;\n",
              "    word-break: break-all;\n",
              "    font-family: \"Source Code Pro\", \"Menlo\", monospace;;\n",
              "    font-size: 13px;\n",
              "    color: #555;\n",
              "    margin-left: 4px;\n",
              "    line-height: 19px;\n",
              "  }\n",
              "</style>\n",
              "<div class=\"ansiout\"></div>"
            ]
          },
          "metadata": {
            "tags": [],
            "application/vnd.databricks.v1+output": {
              "datasetInfos": [],
              "data": "<div class=\"ansiout\"></div>",
              "removedWidgets": [],
              "addedWidgets": {},
              "type": "html",
              "arguments": {}
            }
          }
        }
      ]
    },
    {
      "cell_type": "code",
      "metadata": {
        "application/vnd.databricks.v1+cell": {
          "title": "",
          "showTitle": false,
          "inputWidgets": {},
          "nuid": "4d7957f6-624d-4127-b5dd-6b8f1a315188"
        },
        "id": "fjrCVgyhHWfC",
        "outputId": "c1caf9c3-f659-4d91-b152-fb93778ba451"
      },
      "source": [
        "# TEST - Run this cell to test your solution.\n",
        "schemaStr = str(cleanDF.schema)\n",
        "\n",
        "dbTest(\"SS-04-schema-value\",     True, \"(value,StringType,true)\" in schemaStr)\n",
        "dbTest(\"SS-04-schema-ts_string\",  True, \"(ts_string,StringType,true)\" in schemaStr)\n",
        "dbTest(\"SS-04-schema-epoc\",   True, \"(epoc,LongType,true)\" in schemaStr)\n",
        "dbTest(\"SS-04-schema-capturedAt\", True, \"(capturedAt,TimestampType,true)\" in schemaStr)\n",
        "dbTest(\"SS-04-schema-logData\",  True, \"(logData,StringType,true)\" in schemaStr)\n",
        "\n",
        "print(\"Tests passed!\")"
      ],
      "execution_count": null,
      "outputs": [
        {
          "output_type": "display_data",
          "data": {
            "text/html": [
              "<style scoped>\n",
              "  .ansiout {\n",
              "    display: block;\n",
              "    unicode-bidi: embed;\n",
              "    white-space: pre-wrap;\n",
              "    word-wrap: break-word;\n",
              "    word-break: break-all;\n",
              "    font-family: \"Source Code Pro\", \"Menlo\", monospace;;\n",
              "    font-size: 13px;\n",
              "    color: #555;\n",
              "    margin-left: 4px;\n",
              "    line-height: 19px;\n",
              "  }\n",
              "</style>\n",
              "<div class=\"ansiout\">Tests passed!\n",
              "</div>"
            ]
          },
          "metadata": {
            "tags": [],
            "application/vnd.databricks.v1+output": {
              "datasetInfos": [],
              "data": "<div class=\"ansiout\">Tests passed!\n</div>",
              "removedWidgets": [],
              "addedWidgets": {},
              "type": "html",
              "arguments": {}
            }
          }
        }
      ]
    },
    {
      "cell_type": "code",
      "metadata": {
        "application/vnd.databricks.v1+cell": {
          "title": "",
          "showTitle": false,
          "inputWidgets": {},
          "nuid": "671c88ab-a1df-4e3d-bf13-49816e94d13a"
        },
        "id": "Dkig8-2gHWfD",
        "outputId": "1c93da4c-e6ef-4deb-eff9-32a703fd3003"
      },
      "source": [
        "display(cleanDF, streamName = myStreamName)"
      ],
      "execution_count": null,
      "outputs": [
        {
          "output_type": "display_data",
          "data": {
            "text/html": [
              "<style scoped>\n",
              "  .ansiout {\n",
              "    display: block;\n",
              "    unicode-bidi: embed;\n",
              "    white-space: pre-wrap;\n",
              "    word-wrap: break-word;\n",
              "    word-break: break-all;\n",
              "    font-family: \"Source Code Pro\", \"Menlo\", monospace;;\n",
              "    font-size: 13px;\n",
              "    color: #555;\n",
              "    margin-left: 4px;\n",
              "    line-height: 19px;\n",
              "  }\n",
              "</style>\n",
              "<div class=\"ansiout\"></div>"
            ]
          },
          "metadata": {
            "tags": [],
            "application/vnd.databricks.v1+output": {
              "datasetInfos": [],
              "data": "<div class=\"ansiout\"></div>",
              "removedWidgets": [],
              "addedWidgets": {},
              "type": "html",
              "arguments": {}
            }
          }
        }
      ]
    },
    {
      "cell_type": "markdown",
      "metadata": {
        "application/vnd.databricks.v1+cell": {
          "title": "",
          "showTitle": false,
          "inputWidgets": {},
          "nuid": "48c143ff-6535-4034-9e3a-6db74901bf1a"
        },
        "id": "NpkbwE5sHWfD"
      },
      "source": [
        "<h2><img src=\"https://files.training.databricks.com/images/105/logo_spark_tiny.png\">Classify and Count IP Addresses Over a 10s Window</h2>\n",
        "\n",
        "To solve this problem, you need to:\n",
        "\n",
        "1. Parse the first part of an IP address from the column `logData` with the `regexp_extract()` function\n",
        "  * You will need a regular expression which we have already provided below as `IP_REG_EX`\n",
        "2. Filter out the records that don't contain IP addresses\n",
        "3. Form another column called `ipClass` that classifies IP addresses based on the first part of an IP address \n",
        "  * 1 to 126: \"Class A\"\n",
        "  * 127: \"Loopback\"\n",
        "  * 128 to 191: \"Class B\"\n",
        "  * 192 to 223: \"Class C\"\n",
        "  * 224 to 239: \"Class D\"\n",
        "  * 240 to 256: \"Class E\"\n",
        "  * anything else is invalid\n",
        "4. Perform an aggregation over a window of time, grouping by the `capturedAt` window and `ipClass`\n",
        "  * For this lab, use a 10-second window\n",
        "5. Count the number of IP values that belong to a specific `ipClass`\n",
        "6. Sort by `ipClass`"
      ]
    },
    {
      "cell_type": "code",
      "metadata": {
        "application/vnd.databricks.v1+cell": {
          "title": "",
          "showTitle": false,
          "inputWidgets": {},
          "nuid": "e8b3c4a2-a465-4ad3-b79f-386bb7501a84"
        },
        "id": "StgUjCK-HWfE",
        "outputId": "f949e96e-9428-4ad6-bd7d-3f7aa296929f"
      },
      "source": [
        "# TODO\n",
        "from pyspark.sql.functions import col,length, window, when\n",
        "\n",
        "#This is the regular expression pattern that we will use \n",
        "IP_REG_EX = \"\"\"^.*\\s+(\\d{1,3})\\.\\d{1,3}\\.\\d{1,3}\\.\\d{1,3}.*$\"\"\"\n",
        "\n",
        "ipDF = (cleanDF\n",
        " .withColumn(\"ip\", regexp_extract(\"logData\", IP_REG_EX, 1))                                # apply regexp_extract on IP_REG_EX with value of 1 to \"logData\" and rename it \"ip\"\n",
        " .filter(length(col(\"ip\"))>0)                                            # keep only \"ip\" that have non-zero length\n",
        " .withColumn(\"ipClass\" \n",
        "             ,when(col(\"ip\")<127, \"Class A\")\n",
        "             .when(col(\"ip\") == 127, \"Loopback\")\n",
        "             .when((col(\"ip\")>127) & (col(\"ip\")<192), \"Class B\")\n",
        "             .when((col(\"ip\")>191) & (col(\"ip\")<224), \"Class C\") # figure out class of IP address based on first two octets\n",
        "             .when((col(\"ip\")>223) & (col(\"ip\")<240), \"Class D\")\n",
        "             .when((col(\"ip\")>239) & (col(\"ip\")<257), \"Class E\")\n",
        "             .otherwise(\"invalid\")                                       # add rest of when/otherwise clauses\n",
        "            )\n",
        " .groupBy(window(\"capturedAt\", \"10 seconds\"), col(\"ipClass\"))                  # gather in 10 second windows of \"capturedAt\", call them \"time\" and \"ipClass\" \n",
        " .count()                                            # add up total\n",
        " .orderBy(col(\"ipClass\"))   # sort by IP class\n",
        "            \n",
        "       )"
      ],
      "execution_count": null,
      "outputs": [
        {
          "output_type": "display_data",
          "data": {
            "text/html": [
              "<style scoped>\n",
              "  .ansiout {\n",
              "    display: block;\n",
              "    unicode-bidi: embed;\n",
              "    white-space: pre-wrap;\n",
              "    word-wrap: break-word;\n",
              "    word-break: break-all;\n",
              "    font-family: \"Source Code Pro\", \"Menlo\", monospace;;\n",
              "    font-size: 13px;\n",
              "    color: #555;\n",
              "    margin-left: 4px;\n",
              "    line-height: 19px;\n",
              "  }\n",
              "</style>\n",
              "<div class=\"ansiout\"></div>"
            ]
          },
          "metadata": {
            "tags": [],
            "application/vnd.databricks.v1+output": {
              "datasetInfos": [],
              "data": "<div class=\"ansiout\"></div>",
              "removedWidgets": [],
              "addedWidgets": {},
              "type": "html",
              "arguments": {}
            }
          }
        }
      ]
    },
    {
      "cell_type": "code",
      "metadata": {
        "application/vnd.databricks.v1+cell": {
          "title": "",
          "showTitle": false,
          "inputWidgets": {},
          "nuid": "5d674165-d8d3-44f4-93ee-01099a6177f4"
        },
        "id": "2wNTJdo-HWfE",
        "outputId": "5f427841-bc00-4052-aa03-465013693e6e"
      },
      "source": [
        "# TEST - Run this cell to test your solution.\n",
        "schemaStr = str(ipDF.schema)\n",
        "\n",
        "dbTest(\"SS-04-schema-ipClass\", True, \"(ipClass,StringType,false)\" in schemaStr)\n",
        "dbTest(\"SS-04-schema-count\",   True, \"(count,LongType,false)\" in schemaStr)\n",
        "dbTest(\"SS-04-schema-start\",   True, \"(start,TimestampType,true)\" in schemaStr)\n",
        "dbTest(\"SS-04-schema-end\",     True, \"(end,TimestampType,true)\" in schemaStr)\n",
        "\n",
        "print(\"Tests passed!\")"
      ],
      "execution_count": null,
      "outputs": [
        {
          "output_type": "display_data",
          "data": {
            "text/html": [
              "<style scoped>\n",
              "  .ansiout {\n",
              "    display: block;\n",
              "    unicode-bidi: embed;\n",
              "    white-space: pre-wrap;\n",
              "    word-wrap: break-word;\n",
              "    word-break: break-all;\n",
              "    font-family: \"Source Code Pro\", \"Menlo\", monospace;;\n",
              "    font-size: 13px;\n",
              "    color: #555;\n",
              "    margin-left: 4px;\n",
              "    line-height: 19px;\n",
              "  }\n",
              "</style>\n",
              "<div class=\"ansiout\">Tests passed!\n",
              "</div>"
            ]
          },
          "metadata": {
            "tags": [],
            "application/vnd.databricks.v1+output": {
              "datasetInfos": [],
              "data": "<div class=\"ansiout\">Tests passed!\n</div>",
              "removedWidgets": [],
              "addedWidgets": {},
              "type": "html",
              "arguments": {}
            }
          }
        }
      ]
    },
    {
      "cell_type": "markdown",
      "metadata": {
        "application/vnd.databricks.v1+cell": {
          "title": "",
          "showTitle": false,
          "inputWidgets": {},
          "nuid": "835a158d-c497-4684-bf60-2954da6cf03d"
        },
        "id": "O2t3s0sdHWfF"
      },
      "source": [
        "<h2><img src=\"https://files.training.databricks.com/images/105/logo_spark_tiny.png\">Display a LIVE Plot</h2>\n",
        "\n",
        "The `DataFrame` that you pass to `display()` should have three columns:\n",
        "\n",
        "* `time`: The time window structure\n",
        "* `ipClass`: The class the first part of the IP address belongs to\n",
        "* `count`: The number of times that said class of IP address appeared in the window\n",
        "\n",
        "Under <b>Plot Options</b>, use the following:\n",
        "* <b>Keys:</b> `ipClass`\n",
        "* <b>Values:</b> `count`\n",
        "\n",
        "<b>Display type:</b> is \n",
        "* <b>Pie Chart</b>\n",
        "\n",
        "<img src=\"https://files.training.databricks.com/images/eLearning/Structured-Streaming/plot-options-pie.png\"/>"
      ]
    },
    {
      "cell_type": "code",
      "metadata": {
        "application/vnd.databricks.v1+cell": {
          "title": "",
          "showTitle": false,
          "inputWidgets": {},
          "nuid": "54c5e9a8-8d8d-4c8f-a43f-4f77515938e7"
        },
        "id": "AuCZ2-rhHWfG",
        "outputId": "0c7be278-2244-4437-d8a3-70b938aea0a2"
      },
      "source": [
        "# TODO\n",
        "display(ipDF, streamName = myStreamName)"
      ],
      "execution_count": null,
      "outputs": [
        {
          "output_type": "display_data",
          "data": {
            "text/html": [
              "<style scoped>\n",
              "  .ansiout {\n",
              "    display: block;\n",
              "    unicode-bidi: embed;\n",
              "    white-space: pre-wrap;\n",
              "    word-wrap: break-word;\n",
              "    word-break: break-all;\n",
              "    font-family: \"Source Code Pro\", \"Menlo\", monospace;;\n",
              "    font-size: 13px;\n",
              "    color: #555;\n",
              "    margin-left: 4px;\n",
              "    line-height: 19px;\n",
              "  }\n",
              "</style>\n",
              "<div class=\"ansiout\"></div>"
            ]
          },
          "metadata": {
            "tags": [],
            "application/vnd.databricks.v1+output": {
              "datasetInfos": [],
              "data": "<div class=\"ansiout\"></div>",
              "removedWidgets": [],
              "addedWidgets": {},
              "type": "html",
              "arguments": {}
            }
          }
        }
      ]
    },
    {
      "cell_type": "code",
      "metadata": {
        "application/vnd.databricks.v1+cell": {
          "title": "",
          "showTitle": false,
          "inputWidgets": {},
          "nuid": "beb6f79f-6276-4202-b1ee-f300a71c3ff9"
        },
        "id": "eb1htEIkHWfG"
      },
      "source": [
        "# TEST - Run this cell to test your solution.\n",
        "dbTest(\"SS-04-numActiveStreams\", True, len(spark.streams.active) > 0)\n",
        "\n",
        "print(\"Tests passed!\")"
      ],
      "execution_count": null,
      "outputs": []
    },
    {
      "cell_type": "markdown",
      "metadata": {
        "application/vnd.databricks.v1+cell": {
          "title": "",
          "showTitle": false,
          "inputWidgets": {},
          "nuid": "d5f98873-f8b9-4834-b2eb-99b2043ff723"
        },
        "id": "BtvSm5YGHWfG"
      },
      "source": [
        "Wait until stream is done initializing..."
      ]
    },
    {
      "cell_type": "code",
      "metadata": {
        "application/vnd.databricks.v1+cell": {
          "title": "",
          "showTitle": false,
          "inputWidgets": {},
          "nuid": "808860f9-d756-4b00-9d49-c9ca8c0732cc"
        },
        "id": "2i5wY2HoHWfH"
      },
      "source": [
        "untilStreamIsReady(myStreamName)"
      ],
      "execution_count": null,
      "outputs": []
    },
    {
      "cell_type": "markdown",
      "metadata": {
        "application/vnd.databricks.v1+cell": {
          "title": "",
          "showTitle": false,
          "inputWidgets": {},
          "nuid": "a55e3b4c-129e-4bdf-8e30-fef5c1d02749"
        },
        "id": "YJ1GoaOlHWfH"
      },
      "source": [
        "<h2><img src=\"https://files.training.databricks.com/images/105/logo_spark_tiny.png\">Stop streaming jobs</h2>\n",
        "\n",
        "Before we can conclude, we need to shut down all active streams."
      ]
    },
    {
      "cell_type": "code",
      "metadata": {
        "application/vnd.databricks.v1+cell": {
          "title": "",
          "showTitle": false,
          "inputWidgets": {},
          "nuid": "de1c8aae-f911-491b-9c37-64da1f4b60fc"
        },
        "id": "rseRrsaGHWfH"
      },
      "source": [
        "for s in spark.streams.active:   # Iterate over all the active streams\n",
        "  try:\n",
        "    s.stop()                     # Stop the stream\n",
        "    s.awaitTermination()         # Wait for it to stop\n",
        "    \n",
        "  except Exception as e:\n",
        "    # In extream cases, this funtion may throw an ignorable error.\n",
        "    print(\"An [ignorable] error has occured while stoping the stream.\\n\".str(e))    "
      ],
      "execution_count": null,
      "outputs": []
    },
    {
      "cell_type": "code",
      "metadata": {
        "application/vnd.databricks.v1+cell": {
          "title": "",
          "showTitle": false,
          "inputWidgets": {},
          "nuid": "ffb593a0-f48a-45ca-b75c-dc5eca306079"
        },
        "id": "veBxcICUHWfH"
      },
      "source": [
        "# TEST - Run this cell to test your solution.\n",
        "dbTest(\"SS-04-numActiveStreams\", 0, len(spark.streams.active))\n",
        "\n",
        "print(\"Tests passed!\")"
      ],
      "execution_count": null,
      "outputs": []
    },
    {
      "cell_type": "markdown",
      "metadata": {
        "application/vnd.databricks.v1+cell": {
          "title": "",
          "showTitle": false,
          "inputWidgets": {},
          "nuid": "2deb5bc4-7f85-4551-a86a-a5c1671089c1"
        },
        "id": "XnGz85-mHWfI"
      },
      "source": [
        "## ![Spark Logo Tiny](https://files.training.databricks.com/images/105/logo_spark_tiny.png) Classroom-Cleanup<br>\n",
        "\n",
        "Run the **`Classroom-Cleanup`** cell below to remove any artifacts created by this lesson."
      ]
    },
    {
      "cell_type": "code",
      "metadata": {
        "id": "QfMwwxB8MI86"
      },
      "source": [
        "%run \"../Includes/Classroom-Cleanup\""
      ],
      "execution_count": null,
      "outputs": []
    }
  ]
}