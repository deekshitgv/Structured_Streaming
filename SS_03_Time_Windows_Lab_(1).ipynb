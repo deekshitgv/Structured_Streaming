{
  "nbformat": 4,
  "nbformat_minor": 0,
  "metadata": {
    "application/vnd.databricks.v1+notebook": {
      "notebookName": "SS 03 - Time Windows Lab (1)",
      "dashboards": [],
      "notebookMetadata": {
        "pythonIndentUnit": 2
      },
      "language": "python",
      "widgets": {},
      "notebookOrigID": 98583000766345
    },
    "colab": {
      "name": "SS 03 - Time Windows Lab (1).ipynb",
      "provenance": [],
      "collapsed_sections": []
    },
    "language_info": {
      "name": "python"
    },
    "kernelspec": {
      "name": "python3",
      "display_name": "Python 3"
    }
  },
  "cells": [
    {
      "cell_type": "markdown",
      "metadata": {
        "application/vnd.databricks.v1+cell": {
          "title": "",
          "showTitle": false,
          "inputWidgets": {},
          "nuid": "e3ffc10a-f15a-471e-9975-0de228cb952b"
        },
        "id": "MbW_frSSCNP2"
      },
      "source": [
        "<img src=\"https://files.training.databricks.com/images/Apache-Spark-Logo_TM_200px.png\" style=\"float: left: margin: 20px\"/>\n",
        "\n",
        "# Working with Time Windows Lab\n",
        "\n",
        "\n",
        "## Prerequisites\n",
        "* Web browser: **Chrome**\n",
        "* A cluster configured with **8 cores** and **DBR 6.2**\n"
      ]
    },
    {
      "cell_type": "markdown",
      "metadata": {
        "application/vnd.databricks.v1+cell": {
          "title": "",
          "showTitle": false,
          "inputWidgets": {},
          "nuid": "aa1a8d8d-c35c-4dd7-b80c-7700b4c486f4"
        },
        "id": "C7azxH-FCNQC"
      },
      "source": [
        "## ![Spark Logo Tiny](https://files.training.databricks.com/images/105/logo_spark_tiny.png) Classroom-Setup\n",
        "\n",
        "For each lesson to execute correctly, please make sure to run the **`Classroom-Setup`** cell at the<br/>\n",
        "start of each lesson (see the next cell) and the **`Classroom-Cleanup`** cell at the end of each lesson."
      ]
    },
    {
      "cell_type": "code",
      "metadata": {
        "application/vnd.databricks.v1+cell": {
          "title": "",
          "showTitle": false,
          "inputWidgets": {},
          "nuid": "aec979fe-c781-4074-84e5-a12f8e2deb64"
        },
        "id": "xgZPqX_SCNQD",
        "outputId": "723ee224-83b2-4110-8825-d484d160d12f"
      },
      "source": [
        "%run \"../Includes/Classroom-Setup\""
      ],
      "execution_count": null,
      "outputs": [
        {
          "output_type": "display_data",
          "data": {
            "text/html": [
              "<style scoped>\n",
              "  .ansiout {\n",
              "    display: block;\n",
              "    unicode-bidi: embed;\n",
              "    white-space: pre-wrap;\n",
              "    word-wrap: break-word;\n",
              "    word-break: break-all;\n",
              "    font-family: \"Source Code Pro\", \"Menlo\", monospace;;\n",
              "    font-size: 13px;\n",
              "    color: #555;\n",
              "    margin-left: 4px;\n",
              "    line-height: 19px;\n",
              "  }\n",
              "</style>\n",
              "<div class=\"ansiout\"></div>"
            ]
          },
          "metadata": {
            "tags": [],
            "application/vnd.databricks.v1+output": {
              "datasetInfos": [],
              "data": "<div class=\"ansiout\"></div>",
              "removedWidgets": [],
              "addedWidgets": {},
              "type": "html",
              "arguments": {}
            }
          }
        },
        {
          "output_type": "display_data",
          "data": {
            "text/html": [
              "Preparing the Python environment..."
            ]
          },
          "metadata": {
            "tags": [],
            "application/vnd.databricks.v1+output": {
              "datasetInfos": [],
              "data": "Preparing the Python environment...",
              "textData": null,
              "removedWidgets": [],
              "addedWidgets": {},
              "type": "htmlSandbox",
              "arguments": {}
            }
          }
        },
        {
          "output_type": "display_data",
          "data": {
            "text/html": [
              "Defining courseware-specific utility methods..."
            ]
          },
          "metadata": {
            "tags": [],
            "application/vnd.databricks.v1+output": {
              "datasetInfos": [],
              "data": "Defining courseware-specific utility methods...",
              "textData": null,
              "removedWidgets": [],
              "addedWidgets": {},
              "type": "htmlSandbox",
              "arguments": {}
            }
          }
        },
        {
          "output_type": "display_data",
          "data": {
            "text/html": [
              "<style scoped>\n",
              "  .ansiout {\n",
              "    display: block;\n",
              "    unicode-bidi: embed;\n",
              "    white-space: pre-wrap;\n",
              "    word-wrap: break-word;\n",
              "    word-break: break-all;\n",
              "    font-family: \"Source Code Pro\", \"Menlo\", monospace;;\n",
              "    font-size: 13px;\n",
              "    color: #555;\n",
              "    margin-left: 4px;\n",
              "    line-height: 19px;\n",
              "  }\n",
              "</style>\n",
              "<div class=\"ansiout\"></div>"
            ]
          },
          "metadata": {
            "tags": [],
            "application/vnd.databricks.v1+output": {
              "datasetInfos": [],
              "data": "<div class=\"ansiout\"></div>",
              "removedWidgets": [],
              "addedWidgets": {},
              "type": "html",
              "arguments": {}
            }
          }
        },
        {
          "output_type": "display_data",
          "data": {
            "text/html": [
              "Defining user-facing utility methods..."
            ]
          },
          "metadata": {
            "tags": [],
            "application/vnd.databricks.v1+output": {
              "datasetInfos": [],
              "data": "Defining user-facing utility methods...",
              "textData": null,
              "removedWidgets": [],
              "addedWidgets": {},
              "type": "htmlSandbox",
              "arguments": {}
            }
          }
        },
        {
          "output_type": "display_data",
          "data": {
            "text/html": [
              "Defining custom variables for this lesson..."
            ]
          },
          "metadata": {
            "tags": [],
            "application/vnd.databricks.v1+output": {
              "datasetInfos": [],
              "data": "Defining custom variables for this lesson...",
              "textData": null,
              "removedWidgets": [],
              "addedWidgets": {},
              "type": "htmlSandbox",
              "arguments": {}
            }
          }
        },
        {
          "output_type": "display_data",
          "data": {
            "text/html": [
              "Initializing Databricks Academy's testing framework..."
            ]
          },
          "metadata": {
            "tags": [],
            "application/vnd.databricks.v1+output": {
              "datasetInfos": [],
              "data": "Initializing Databricks Academy's testing framework...",
              "textData": null,
              "removedWidgets": [],
              "addedWidgets": {},
              "type": "htmlSandbox",
              "arguments": {}
            }
          }
        },
        {
          "output_type": "display_data",
          "data": {
            "text/html": [
              "Initializing Databricks Academy's services for generating dynamic data..."
            ]
          },
          "metadata": {
            "tags": [],
            "application/vnd.databricks.v1+output": {
              "datasetInfos": [],
              "data": "Initializing Databricks Academy's services for generating dynamic data...",
              "textData": null,
              "removedWidgets": [],
              "addedWidgets": {},
              "type": "htmlSandbox",
              "arguments": {}
            }
          }
        },
        {
          "output_type": "display_data",
          "data": {
            "text/html": [
              "Mounting course-specific datasets to <b>/mnt/training</b>...</br>Datasets are already mounted to <b>/mnt/training</b> from <b>s3a://databricks-corp-training/common</b>"
            ]
          },
          "metadata": {
            "tags": [],
            "application/vnd.databricks.v1+output": {
              "datasetInfos": [],
              "data": "Mounting course-specific datasets to <b>/mnt/training</b>...</br>Datasets are already mounted to <b>/mnt/training</b> from <b>s3a://databricks-corp-training/common</b>",
              "textData": null,
              "removedWidgets": [],
              "addedWidgets": {},
              "type": "htmlSandbox",
              "arguments": {}
            }
          }
        },
        {
          "output_type": "display_data",
          "data": {
            "text/html": [
              "<style scoped>\n",
              "  .ansiout {\n",
              "    display: block;\n",
              "    unicode-bidi: embed;\n",
              "    white-space: pre-wrap;\n",
              "    word-wrap: break-word;\n",
              "    word-break: break-all;\n",
              "    font-family: \"Source Code Pro\", \"Menlo\", monospace;;\n",
              "    font-size: 13px;\n",
              "    color: #555;\n",
              "    margin-left: 4px;\n",
              "    line-height: 19px;\n",
              "  }\n",
              "</style>\n",
              "<div class=\"ansiout\"></div>"
            ]
          },
          "metadata": {
            "tags": [],
            "application/vnd.databricks.v1+output": {
              "datasetInfos": [],
              "data": "<div class=\"ansiout\"></div>",
              "removedWidgets": [],
              "addedWidgets": {},
              "type": "html",
              "arguments": {}
            }
          }
        },
        {
          "output_type": "display_data",
          "data": {
            "text/html": [
              "<style scoped>\n",
              "  .ansiout {\n",
              "    display: block;\n",
              "    unicode-bidi: embed;\n",
              "    white-space: pre-wrap;\n",
              "    word-wrap: break-word;\n",
              "    word-break: break-all;\n",
              "    font-family: \"Source Code Pro\", \"Menlo\", monospace;;\n",
              "    font-size: 13px;\n",
              "    color: #555;\n",
              "    margin-left: 4px;\n",
              "    line-height: 19px;\n",
              "  }\n",
              "</style>\n",
              "<div class=\"ansiout\"></div>"
            ]
          },
          "metadata": {
            "tags": [],
            "application/vnd.databricks.v1+output": {
              "datasetInfos": [],
              "data": "<div class=\"ansiout\"></div>",
              "removedWidgets": [],
              "addedWidgets": {},
              "type": "html",
              "arguments": {}
            }
          }
        },
        {
          "output_type": "display_data",
          "data": {
            "text/html": [
              "Cleaning up the learning environment...no actions taken."
            ]
          },
          "metadata": {
            "tags": [],
            "application/vnd.databricks.v1+output": {
              "datasetInfos": [],
              "data": "Cleaning up the learning environment...no actions taken.",
              "textData": null,
              "removedWidgets": [],
              "addedWidgets": {},
              "type": "htmlSandbox",
              "arguments": {}
            }
          }
        },
        {
          "output_type": "display_data",
          "data": {
            "text/html": [
              "\n",
              "      <div style=\"color:red; font-weight:bold\">WARNING: This notebook was tested on DBR 6.2, but we found DBR 8.0.</div>\n",
              "      <div style=\"font-weight:bold\">Using an untested DBR may yield unexpected results and/or various errors</div>\n",
              "      <div style=\"font-weight:bold\">Please update your cluster configuration and/or <a href=\"https://academy.databricks.com/\" target=\"_blank\">download a newer version of this course</a> before proceeding.</div>\n",
              "    "
            ]
          },
          "metadata": {
            "tags": [],
            "application/vnd.databricks.v1+output": {
              "datasetInfos": [],
              "data": "\n      <div style=\"color:red; font-weight:bold\">WARNING: This notebook was tested on DBR 6.2, but we found DBR 8.0.</div>\n      <div style=\"font-weight:bold\">Using an untested DBR may yield unexpected results and/or various errors</div>\n      <div style=\"font-weight:bold\">Please update your cluster configuration and/or <a href=\"https://academy.databricks.com/\" target=\"_blank\">download a newer version of this course</a> before proceeding.</div>\n    ",
              "textData": null,
              "removedWidgets": [],
              "addedWidgets": {},
              "type": "htmlSandbox",
              "arguments": {}
            }
          }
        },
        {
          "output_type": "display_data",
          "data": {
            "text/html": [
              "All done!"
            ]
          },
          "metadata": {
            "tags": [],
            "application/vnd.databricks.v1+output": {
              "datasetInfos": [],
              "data": "All done!",
              "textData": null,
              "removedWidgets": [],
              "addedWidgets": {},
              "type": "htmlSandbox",
              "arguments": {}
            }
          }
        }
      ]
    },
    {
      "cell_type": "markdown",
      "metadata": {
        "application/vnd.databricks.v1+cell": {
          "title": "",
          "showTitle": false,
          "inputWidgets": {},
          "nuid": "864c2f37-8a89-4156-bb70-3e2136e3275a"
        },
        "id": "2X6rhmv3CNQF"
      },
      "source": [
        "Define the name of the stream we are to use later in this lesson:"
      ]
    },
    {
      "cell_type": "code",
      "metadata": {
        "application/vnd.databricks.v1+cell": {
          "title": "",
          "showTitle": false,
          "inputWidgets": {},
          "nuid": "27fb341e-5e12-4f3b-9ab3-5eff6f0f578c"
        },
        "id": "1zEhX0UmCNQF",
        "outputId": "ff09a9ba-cf11-4e1a-e8b3-b7a0abd3baa0"
      },
      "source": [
        "myStreamName = \"lab03_ps\""
      ],
      "execution_count": null,
      "outputs": [
        {
          "output_type": "display_data",
          "data": {
            "text/html": [
              "<style scoped>\n",
              "  .ansiout {\n",
              "    display: block;\n",
              "    unicode-bidi: embed;\n",
              "    white-space: pre-wrap;\n",
              "    word-wrap: break-word;\n",
              "    word-break: break-all;\n",
              "    font-family: \"Source Code Pro\", \"Menlo\", monospace;;\n",
              "    font-size: 13px;\n",
              "    color: #555;\n",
              "    margin-left: 4px;\n",
              "    line-height: 19px;\n",
              "  }\n",
              "</style>\n",
              "<div class=\"ansiout\"></div>"
            ]
          },
          "metadata": {
            "tags": [],
            "application/vnd.databricks.v1+output": {
              "datasetInfos": [],
              "data": "<div class=\"ansiout\"></div>",
              "removedWidgets": [],
              "addedWidgets": {},
              "type": "html",
              "arguments": {}
            }
          }
        }
      ]
    },
    {
      "cell_type": "markdown",
      "metadata": {
        "application/vnd.databricks.v1+cell": {
          "title": "",
          "showTitle": false,
          "inputWidgets": {},
          "nuid": "2f4c09c5-b8b6-4154-9b36-318289f32d9f"
        },
        "id": "VDcNSDmvCNQG"
      },
      "source": [
        "<h2><img src=\"https://files.training.databricks.com/images/105/logo_spark_tiny.png\">Read data into a stream</h2>\n",
        "\n",
        "The dataset used in this exercise consists of flight information about flights from/to various airports in 2007.\n",
        "\n",
        "You have already seen this dataset in Exercise 1 of Notebook 02.\n"
      ]
    },
    {
      "cell_type": "code",
      "metadata": {
        "id": "DNj1d74iCyAn"
      },
      "source": [
        "path = \"dbfs:/mnt/training/asa/flights/2007-01-stream.parquet/part-00000-tid-9167815511861375854-22d81a30-d5b4-43d0-9216-0c20d14c3f54-178-c000.snappy.parquet\"\n",
        "df = spark.read.parquet(path)"
      ],
      "execution_count": null,
      "outputs": []
    },
    {
      "cell_type": "markdown",
      "metadata": {
        "application/vnd.databricks.v1+cell": {
          "title": "",
          "showTitle": false,
          "inputWidgets": {},
          "nuid": "41d340e9-1a57-4f0b-9d18-6fc178f466b1"
        },
        "id": "Rm8Zl2yNCNQH"
      },
      "source": [
        "For this exercise you will need to complete the following tasks:\n",
        "1. Start a stream that reads parquet files dumped to the directory `dataPath`\n",
        "2. Control the size of each partition by forcing Spark to process only 1 file per trigger.\n",
        "\n",
        "Other notes:\n",
        "1. The source data has already been defined as `dataPath`\n",
        "2. The schema has already be defined as `parquetSchema`"
      ]
    },
    {
      "cell_type": "code",
      "metadata": {
        "application/vnd.databricks.v1+cell": {
          "title": "",
          "showTitle": false,
          "inputWidgets": {},
          "nuid": "3b8c6840-8748-401e-9cd6-563b2f966f9d"
        },
        "id": "IGVuecTFCNQH",
        "outputId": "b3c43b0b-9df1-4728-a3c5-33994a29d208"
      },
      "source": [
        "# TODO\n",
        "dataPath = \"/mnt/training/asa/flights/2007-01-stream.parquet/\"\n",
        "\n",
        "parquetSchema = \"DepartureAt timestamp, FlightDate string, DepTime string, CRSDepTime string, ArrTime string, CRSArrTime string, UniqueCarrier string, FlightNum integer, TailNum string, ActualElapsedTime string, CRSElapsedTime string, AirTime string, ArrDelay string, DepDelay string, Origin string, Dest string, Distance string, TaxiIn string, TaxiOut string, Cancelled integer, CancellationCode string, Diverted integer, CarrierDelay string, WeatherDelay string, NASDelay string, SecurityDelay string, LateAircraftDelay string\"\n",
        "  \n",
        "# Configure the shuffle partitions to match the number of cores  \n",
        "spark.conf.set(\"spark.sql.shuffle.partitions\", sc.defaultParallelism)\n",
        "\n",
        "streamDF = (spark.readStream  # Start with the SparkSesion\n",
        "  .format(\"parquet\")         # Configure the stream's source for the appropriate file type\n",
        "  .schema(parquetSchema)         # Specify the parquet files' schema\n",
        "  .option(\"maxFilesPerTrigger\", 1)         # Restrict Spark to processing only 1 file per trigger\n",
        "  .load(dataPath)         # Load the DataFrame specifying its location with dataPath\n",
        ")"
      ],
      "execution_count": null,
      "outputs": [
        {
          "output_type": "display_data",
          "data": {
            "text/html": [
              "<style scoped>\n",
              "  .ansiout {\n",
              "    display: block;\n",
              "    unicode-bidi: embed;\n",
              "    white-space: pre-wrap;\n",
              "    word-wrap: break-word;\n",
              "    word-break: break-all;\n",
              "    font-family: \"Source Code Pro\", \"Menlo\", monospace;;\n",
              "    font-size: 13px;\n",
              "    color: #555;\n",
              "    margin-left: 4px;\n",
              "    line-height: 19px;\n",
              "  }\n",
              "</style>\n",
              "<div class=\"ansiout\"></div>"
            ]
          },
          "metadata": {
            "tags": [],
            "application/vnd.databricks.v1+output": {
              "datasetInfos": [],
              "data": "<div class=\"ansiout\"></div>",
              "removedWidgets": [],
              "addedWidgets": {},
              "type": "html",
              "arguments": {}
            }
          }
        }
      ]
    },
    {
      "cell_type": "code",
      "metadata": {
        "application/vnd.databricks.v1+cell": {
          "title": "",
          "showTitle": false,
          "inputWidgets": {},
          "nuid": "05d9ea31-0257-4aa0-b242-6a358f456c8a"
        },
        "id": "aCFf9J6HCNQI",
        "outputId": "a54eb8f6-a0d3-48b0-9f64-c31f11f5aac0"
      },
      "source": [
        "# TEST - Run this cell to test your solution.\n",
        "schemaStr = str(streamDF.schema)\n",
        "\n",
        "dbTest(\"SS-03-shuffles\",  sc.defaultParallelism, spark.conf.get(\"spark.sql.shuffle.partitions\"))\n",
        "\n",
        "dbTest(\"SS-03-schema-1\",  True, \"(DepartureAt,TimestampType,true)\" in schemaStr)\n",
        "dbTest(\"SS-03-schema-2\",  True, \"(FlightDate,StringType,true)\" in schemaStr)\n",
        "dbTest(\"SS-03-schema-3\",  True, \"(DepTime,StringType,true)\" in schemaStr)\n",
        "dbTest(\"SS-03-schema-4\",  True, \"(CRSDepTime,StringType,true)\" in schemaStr)\n",
        "dbTest(\"SS-03-schema-5\",  True, \"(ArrTime,StringType,true)\" in schemaStr)\n",
        "dbTest(\"SS-03-schema-6\",  True, \"(CRSArrTime,StringType,true)\" in schemaStr)\n",
        "dbTest(\"SS-03-schema-7\",  True, \"(UniqueCarrier,StringType,true)\" in schemaStr)\n",
        "dbTest(\"SS-03-schema-8\",  True, \"(FlightNum,IntegerType,true)\" in schemaStr)\n",
        "dbTest(\"SS-03-schema-9\",  True, \"(TailNum,StringType,true)\" in schemaStr)\n",
        "dbTest(\"SS-03-schema-10\",  True, \"(ActualElapsedTime,StringType,true)\" in schemaStr)\n",
        "dbTest(\"SS-03-schema-11\",  True, \"(CRSElapsedTime,StringType,true)\" in schemaStr)\n",
        "dbTest(\"SS-03-schema-12\",  True, \"(AirTime,StringType,true)\" in schemaStr)\n",
        "dbTest(\"SS-03-schema-13\",  True, \"(ArrDelay,StringType,true)\" in schemaStr)\n",
        "dbTest(\"SS-03-schema-14\",  True, \"(DepDelay,StringType,true)\" in schemaStr)\n",
        "dbTest(\"SS-03-schema-15\",  True, \"(Origin,StringType,true)\" in schemaStr)\n",
        "dbTest(\"SS-03-schema-16\",  True, \"(Dest,StringType,true)\" in schemaStr)\n",
        "dbTest(\"SS-03-schema-17\",  True, \"(Distance,StringType,true)\" in schemaStr)\n",
        "dbTest(\"SS-03-schema-18\",  True, \"(TaxiIn,StringType,true)\" in schemaStr)\n",
        "dbTest(\"SS-03-schema-19\",  True, \"(TaxiOut,StringType,true)\" in schemaStr)\n",
        "dbTest(\"SS-03-schema-20\",  True, \"(Cancelled,IntegerType,true)\" in schemaStr)\n",
        "dbTest(\"SS-03-schema-21\",  True, \"(CancellationCode,StringType,true)\" in schemaStr)\n",
        "dbTest(\"SS-03-schema-22\",  True, \"(Diverted,IntegerType,true)\" in schemaStr)\n",
        "dbTest(\"SS-03-schema-23\",  True, \"(CarrierDelay,StringType,true)\" in schemaStr)\n",
        "dbTest(\"SS-03-schema-24\",  True, \"(WeatherDelay,StringType,true)\" in schemaStr)\n",
        "dbTest(\"SS-03-schema-25\",  True, \"(NASDelay,StringType,true)\" in schemaStr)\n",
        "dbTest(\"SS-03-schema-26\",  True, \"(SecurityDelay,StringType,true)\" in schemaStr)\n",
        "dbTest(\"SS-03-schema-27\",  True, \"(LateAircraftDelay,StringType,true)\" in schemaStr)\n",
        "\n",
        "print(\"Tests passed!\")"
      ],
      "execution_count": null,
      "outputs": [
        {
          "output_type": "display_data",
          "data": {
            "text/html": [
              "<style scoped>\n",
              "  .ansiout {\n",
              "    display: block;\n",
              "    unicode-bidi: embed;\n",
              "    white-space: pre-wrap;\n",
              "    word-wrap: break-word;\n",
              "    word-break: break-all;\n",
              "    font-family: \"Source Code Pro\", \"Menlo\", monospace;;\n",
              "    font-size: 13px;\n",
              "    color: #555;\n",
              "    margin-left: 4px;\n",
              "    line-height: 19px;\n",
              "  }\n",
              "</style>\n",
              "<div class=\"ansiout\">Tests passed!\n",
              "</div>"
            ]
          },
          "metadata": {
            "tags": [],
            "application/vnd.databricks.v1+output": {
              "datasetInfos": [],
              "data": "<div class=\"ansiout\">Tests passed!\n</div>",
              "removedWidgets": [],
              "addedWidgets": {},
              "type": "html",
              "arguments": {}
            }
          }
        }
      ]
    },
    {
      "cell_type": "markdown",
      "metadata": {
        "application/vnd.databricks.v1+cell": {
          "title": "",
          "showTitle": false,
          "inputWidgets": {},
          "nuid": "e7aea663-c937-4afb-bf88-ef88bd907532"
        },
        "id": "riHbMCQ1CNQJ"
      },
      "source": [
        "<h2><img src=\"https://files.training.databricks.com/images/105/logo_spark_tiny.png\">Plot grouped events</h2>\n",
        "\n",
        "Plot the count of all flights aggregated by a 30 minute window and `UniqueCarrier`. \n",
        "\n",
        "Ignore any events delayed by 300 minutes or more.\n",
        "\n",
        "You will need to:\n",
        "1. Use a watermark to discard events not received within 300 minutes\n",
        "2. Configure the stream for a 30 minute sliding window\n",
        "3. Aggregate by the 30 minute window and the column `UniqueCarrier`\n",
        "4. Add the column `start` by extracting it from `window.start`\n",
        "5. Sort the stream by `start`\n",
        "\n",
        "In order to create a LIVE bar chart of the data, you'll need to specify the following <b>Plot Options</b>:\n",
        "* **Keys** is set to `start`\n",
        "* **Series groupings** is set to `UniqueCarrier`\n",
        "* **Values** is set to `count`"
      ]
    },
    {
      "cell_type": "code",
      "metadata": {
        "id": "_q_U4JX-DXzo"
      },
      "source": [
        "# TODO\n",
        "from pyspark.sql.functions import *\n",
        "\n",
        "countsDF = (streamDF  # Start with the DataFrame\n",
        "  .withWatermark(\"DepartureAt\", \"300 minutes\")            # Specify the watermark\n",
        "  .groupBy(col(\"UniqueCarrier\"), window(\"DepartureAt\", \"30 minutes\"))            # Aggregate the data\n",
        "  .count()            # Produce a count for each aggreate\n",
        "  .withColumn(\"start\", col(\"window.start\"))            # Add the column \"hour\", extracting it from \"window.start\"\n",
        ")\n",
        "display(countsDF,  streamName = myStreamName)"
      ],
      "execution_count": null,
      "outputs": []
    },
    {
      "cell_type": "markdown",
      "metadata": {
        "application/vnd.databricks.v1+cell": {
          "title": "",
          "showTitle": false,
          "inputWidgets": {},
          "nuid": "8d692486-c345-4a5f-afed-257be5fee292"
        },
        "id": "mx5KEh2vCNQL"
      },
      "source": [
        "Wait until stream is done initializing..."
      ]
    },
    {
      "cell_type": "code",
      "metadata": {
        "id": "SPux225aDxYl"
      },
      "source": [
        "untilStreamIsReady(myStreamName)"
      ],
      "execution_count": null,
      "outputs": []
    },
    {
      "cell_type": "code",
      "metadata": {
        "application/vnd.databricks.v1+cell": {
          "title": "",
          "showTitle": false,
          "inputWidgets": {},
          "nuid": "7e50ece0-f799-4c21-8a2e-67566bec121e"
        },
        "id": "snXJ8brYCNQM",
        "outputId": "8f2f9e7a-c01a-4af2-b38c-8ec65a44af2b"
      },
      "source": [
        "# TEST - Run this cell to test your solution.\n",
        "schemaStr = str(countsDF.schema)\n",
        "\n",
        "dbTest(\"SS-03-schema-1\",  True, \"(UniqueCarrier,StringType,true)\" in schemaStr)\n",
        "dbTest(\"SS-03-schema-2\",  True, \"(count,LongType,false)\" in schemaStr)\n",
        "dbTest(\"SS-03-schema-5\",  True, \"(start,TimestampType,true)\" in schemaStr)\n",
        "\n",
        "print(\"Tests passed!\")"
      ],
      "execution_count": null,
      "outputs": [
        {
          "output_type": "display_data",
          "data": {
            "text/html": [
              "<style scoped>\n",
              "  .ansiout {\n",
              "    display: block;\n",
              "    unicode-bidi: embed;\n",
              "    white-space: pre-wrap;\n",
              "    word-wrap: break-word;\n",
              "    word-break: break-all;\n",
              "    font-family: \"Source Code Pro\", \"Menlo\", monospace;;\n",
              "    font-size: 13px;\n",
              "    color: #555;\n",
              "    margin-left: 4px;\n",
              "    line-height: 19px;\n",
              "  }\n",
              "</style>\n",
              "<div class=\"ansiout\">Tests passed!\n",
              "</div>"
            ]
          },
          "metadata": {
            "tags": [],
            "application/vnd.databricks.v1+output": {
              "datasetInfos": [],
              "data": "<div class=\"ansiout\">Tests passed!\n</div>",
              "removedWidgets": [],
              "addedWidgets": {},
              "type": "html",
              "arguments": {}
            }
          }
        }
      ]
    },
    {
      "cell_type": "markdown",
      "metadata": {
        "application/vnd.databricks.v1+cell": {
          "title": "",
          "showTitle": false,
          "inputWidgets": {},
          "nuid": "066c293e-fe1b-4733-85aa-fccb30fdb669"
        },
        "id": "pAqQuOhXCNQN"
      },
      "source": [
        "<h2><img src=\"https://files.training.databricks.com/images/105/logo_spark_tiny.png\">Stop streaming jobs</h2>\n",
        "\n",
        "Before we can conclude, we need to shut down all active streams."
      ]
    },
    {
      "cell_type": "code",
      "metadata": {
        "application/vnd.databricks.v1+cell": {
          "title": "",
          "showTitle": false,
          "inputWidgets": {},
          "nuid": "3e3e6a22-95a3-4efd-9129-010e8a337d8a"
        },
        "id": "ZCi3DNsjCNQN",
        "outputId": "d04b2d1a-95c3-4726-aa84-d0fa4c8dea32"
      },
      "source": [
        "# TODO\n",
        "for s in spark.streams.active:  # Iterate over all the active streams\n",
        "    stopAllStreams() # Stop the stream\n",
        "    print(s.name)"
      ],
      "execution_count": null,
      "outputs": [
        {
          "output_type": "display_data",
          "data": {
            "text/html": [
              "<style scoped>\n",
              "  .ansiout {\n",
              "    display: block;\n",
              "    unicode-bidi: embed;\n",
              "    white-space: pre-wrap;\n",
              "    word-wrap: break-word;\n",
              "    word-break: break-all;\n",
              "    font-family: \"Source Code Pro\", \"Menlo\", monospace;;\n",
              "    font-size: 13px;\n",
              "    color: #555;\n",
              "    margin-left: 4px;\n",
              "    line-height: 19px;\n",
              "  }\n",
              "</style>\n",
              "<div class=\"ansiout\">Stopping the stream lab03_ps.\n",
              "An [ignorable] error has occured while stoping the stream.\n",
              "lab03_ps\n",
              "</div>"
            ]
          },
          "metadata": {
            "tags": [],
            "application/vnd.databricks.v1+output": {
              "datasetInfos": [],
              "data": "<div class=\"ansiout\">Stopping the stream lab03_ps.\nAn [ignorable] error has occured while stoping the stream.\nlab03_ps\n</div>",
              "removedWidgets": [],
              "addedWidgets": {},
              "type": "html",
              "arguments": {}
            }
          }
        }
      ]
    },
    {
      "cell_type": "code",
      "metadata": {
        "application/vnd.databricks.v1+cell": {
          "title": "",
          "showTitle": false,
          "inputWidgets": {},
          "nuid": "2d7abace-02cd-45a1-96cc-958ba2c28e51"
        },
        "id": "N4tt152vCNQN",
        "outputId": "e19848ce-4e77-49fb-8284-502257a81952"
      },
      "source": [
        "# TEST - Run this cell to test your solution.\n",
        "dbTest(\"SS-03-numActiveStreams\", 0, len(spark.streams.active))\n",
        "\n",
        "print(\"Tests passed!\")"
      ],
      "execution_count": null,
      "outputs": [
        {
          "output_type": "display_data",
          "data": {
            "text/html": [
              "<style scoped>\n",
              "  .ansiout {\n",
              "    display: block;\n",
              "    unicode-bidi: embed;\n",
              "    white-space: pre-wrap;\n",
              "    word-wrap: break-word;\n",
              "    word-break: break-all;\n",
              "    font-family: \"Source Code Pro\", \"Menlo\", monospace;;\n",
              "    font-size: 13px;\n",
              "    color: #555;\n",
              "    margin-left: 4px;\n",
              "    line-height: 19px;\n",
              "  }\n",
              "</style>\n",
              "<div class=\"ansiout\">Tests passed!\n",
              "</div>"
            ]
          },
          "metadata": {
            "tags": [],
            "application/vnd.databricks.v1+output": {
              "datasetInfos": [],
              "data": "<div class=\"ansiout\">Tests passed!\n</div>",
              "removedWidgets": [],
              "addedWidgets": {},
              "type": "html",
              "arguments": {}
            }
          }
        }
      ]
    },
    {
      "cell_type": "markdown",
      "metadata": {
        "application/vnd.databricks.v1+cell": {
          "title": "",
          "showTitle": false,
          "inputWidgets": {},
          "nuid": "904da57c-4c9f-4794-a848-4f9c6675b20f"
        },
        "id": "tv_U6lgbCNQO"
      },
      "source": [
        "## ![Spark Logo Tiny](https://files.training.databricks.com/images/105/logo_spark_tiny.png) Classroom-Cleanup<br>\n",
        "\n",
        "Run the **`Classroom-Cleanup`** cell below to remove any artifacts created by this lesson."
      ]
    },
    {
      "cell_type": "code",
      "metadata": {
        "id": "9EtTfnFAEqMl"
      },
      "source": [
        "%run \"../Includes/Classroom-Cleanup\""
      ],
      "execution_count": null,
      "outputs": []
    },
    {
      "cell_type": "markdown",
      "metadata": {
        "application/vnd.databricks.v1+cell": {
          "title": "",
          "showTitle": false,
          "inputWidgets": {},
          "nuid": "a0e696df-f692-4041-bab1-b368d81fc8c3"
        },
        "id": "s8cLLPt4CNQO"
      },
      "source": [
        "<h2><img src=\"https://files.training.databricks.com/images/105/logo_spark_tiny.png\"> Next Steps</h2>\n",
        "\n",
        "Start the next lesson, [Using Kafka]($../SS 04a - Using Kafka)."
      ]
    }
  ]
}